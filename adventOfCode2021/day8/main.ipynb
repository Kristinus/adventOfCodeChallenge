{
 "cells": [
  {
   "cell_type": "code",
   "execution_count": 1,
   "id": "cd0157a1-e1f5-40cd-b201-14248bde1b0f",
   "metadata": {},
   "outputs": [],
   "source": [
    "import sys\n",
    "import numpy as np"
   ]
  },
  {
   "cell_type": "code",
   "execution_count": 2,
   "id": "b3d8ed29-3813-4c6d-8e80-64a709dc94e8",
   "metadata": {},
   "outputs": [],
   "source": [
    "def part1(arr):\n",
    "    signals, output, output_len = [], [], []\n",
    "    for i in arr:\n",
    "        a,b = i.split(\"|\")\n",
    "        signals.append(a.strip().split())\n",
    "        output.append(b.strip().split())\n",
    "        output_len = np.append(output_len, [len(x) for x in b.strip().split()])\n",
    "    ones = len(np.where(output_len == 2)[0]) # 1\n",
    "    fours = len(np.where(output_len == 4)[0]) # 4\n",
    "    sevens = len(np.where(output_len == 3)[0]) # 7\n",
    "    eights = len(np.where(output_len == 7)[0]) # 8\n",
    "    return ones + fours + sevens + eights"
   ]
  },
  {
   "cell_type": "code",
   "execution_count": 3,
   "id": "5abad038-482b-412b-b767-1dadf65feac9",
   "metadata": {},
   "outputs": [],
   "source": [
    "#  aaaa\n",
    "# b    c\n",
    "# b    c\n",
    "#  dddd  \n",
    "# e    f\n",
    "# e    f\n",
    "#  gggg  \n",
    "def calculate_output(signal, output):\n",
    "    digit = ''\n",
    "    for i in output:\n",
    "        if len(i) == 2:\n",
    "            digit += '1'\n",
    "        elif len(i) == 5 and len(set(signal[2]).difference(i)) == 2:\n",
    "            digit += '2'\n",
    "        elif len(i) == 5 and len(set(signal[0]).difference(i)) == 0:\n",
    "            digit += '3'\n",
    "        elif len(i) == 4:\n",
    "            digit += '4'\n",
    "        elif len(i) == 5:\n",
    "            digit += '5'\n",
    "        elif len(i) == 3:\n",
    "            digit += '7'\n",
    "        elif len(i) == 7:\n",
    "            digit += '8'\n",
    "        elif len(i) == 6 and len(set(signal[2]).difference(i)) == 0:\n",
    "            digit += '9'\n",
    "        elif len(i) == 6 and len(set(signal[0]).difference(i)) == 1:\n",
    "            digit += '6'\n",
    "        elif len(i) == 6:\n",
    "            digit += '0'\n",
    "        else:\n",
    "            digit += '.'\n",
    "    return int(digit)\n",
    "\n",
    "def part2(arr):\n",
    "    signals, output, output_len = [], [], []\n",
    "    for i in arr:\n",
    "        a,b = i.split(\" | \")\n",
    "        signals.append(sorted([''.join(sorted(j)) for j in a.split()], key=len))\n",
    "        output.append([''.join(sorted(j)) for j in b.split()])\n",
    "    total = 0\n",
    "    for x,y in zip(signals, output):\n",
    "        total += calculate_output(x,y)\n",
    "    return total"
   ]
  },
  {
   "cell_type": "code",
   "execution_count": 5,
   "id": "177862b5-a783-46d9-a036-87f2118b532a",
   "metadata": {},
   "outputs": [
    {
     "name": "stdout",
     "output_type": "stream",
     "text": [
      "/Users/bryankristiono/Library/Jupyter/runtime/kernel-6b89af0f-8927-4faa-9cb1-309f59e9a71f.json\n",
      "26\n",
      "61229\n"
     ]
    }
   ],
   "source": [
    "if __name__ == \"__main__\":\n",
    "    file = sys.argv[-1] if sys.argv[-1].endswith(\".txt\") else \"sample.txt\"\n",
    "    with open(file, \"r\") as f:\n",
    "        arr = f.read().splitlines()\n",
    "\n",
    "        print(part1(arr))\n",
    "        print(part2(arr))"
   ]
  },
  {
   "cell_type": "code",
   "execution_count": null,
   "id": "60c63068-6058-49c4-9f44-d26073c14b9a",
   "metadata": {},
   "outputs": [],
   "source": []
  }
 ],
 "metadata": {
  "kernelspec": {
   "display_name": "Python 3 (ipykernel)",
   "language": "python",
   "name": "python3"
  },
  "language_info": {
   "codemirror_mode": {
    "name": "ipython",
    "version": 3
   },
   "file_extension": ".py",
   "mimetype": "text/x-python",
   "name": "python",
   "nbconvert_exporter": "python",
   "pygments_lexer": "ipython3",
   "version": "3.9.6"
  }
 },
 "nbformat": 4,
 "nbformat_minor": 5
}
