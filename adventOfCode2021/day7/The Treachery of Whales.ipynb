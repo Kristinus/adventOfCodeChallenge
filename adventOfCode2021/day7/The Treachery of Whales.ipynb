{
 "cells": [
  {
   "cell_type": "code",
   "execution_count": 49,
   "id": "00a5761b-fcb9-4bf7-98f0-7d611eaeb5c2",
   "metadata": {},
   "outputs": [],
   "source": [
    "import sys\n",
    "import numpy as np\n",
    "import math"
   ]
  },
  {
   "cell_type": "code",
   "execution_count": 59,
   "id": "0bba669e-b5a9-4b97-aebc-0d473f2f4a3e",
   "metadata": {},
   "outputs": [],
   "source": [
    "def binom(n, k):\n",
    "    if n < k:\n",
    "        return 0\n",
    "    return math.factorial(n) // math.factorial(k) // math.factorial(n - k)"
   ]
  },
  {
   "cell_type": "code",
   "execution_count": 51,
   "id": "bef236e7-01d3-4959-b761-1ccffe9d89d6",
   "metadata": {},
   "outputs": [],
   "source": [
    "def part1(arr):\n",
    "    _arr = np.array([int(i)for i in arr[0].split(\",\")])\n",
    "    med = np.median(_arr)\n",
    "    total_diff = 0\n",
    "    for i in (_arr):\n",
    "        total_diff += abs(i - med)\n",
    "    return total_diff"
   ]
  },
  {
   "cell_type": "code",
   "execution_count": 75,
   "id": "5fac7478-1919-490a-a91b-b111cdfc7d7e",
   "metadata": {},
   "outputs": [],
   "source": [
    "def part2(arr):\n",
    "    _arr = np.array([int(i)for i in arr[0].split(\",\")])\n",
    "    med = int(np.floor(np.mean(_arr)))\n",
    "    print(med)\n",
    "    med = 471\n",
    "    total_diff = 0\n",
    "    for i in (_arr):\n",
    "        total_diff += binom(abs(i - med) + 1, 2)\n",
    "    return total_diff"
   ]
  },
  {
   "cell_type": "code",
   "execution_count": 76,
   "id": "14f2d01d-3e57-487f-8e8d-f868cf39a914",
   "metadata": {},
   "outputs": [
    {
     "name": "stdout",
     "output_type": "stream",
     "text": [
      "339321.0\n",
      "472\n",
      "95476244\n"
     ]
    }
   ],
   "source": [
    "if __name__ == \"__main__\":\n",
    "    with open(\"input.txt\", \"r\") as f:\n",
    "        arr = f.read().splitlines()\n",
    "    \n",
    "        print(part1(arr))\n",
    "        print(part2(arr))"
   ]
  },
  {
   "cell_type": "code",
   "execution_count": 74,
   "id": "37cb23dd-3801-498a-b40c-c35fe5f037da",
   "metadata": {},
   "outputs": [
    {
     "data": {
      "text/plain": [
       "False"
      ]
     },
     "execution_count": 74,
     "metadata": {},
     "output_type": "execute_result"
    }
   ],
   "source": [
    "95477241 < 95476244"
   ]
  },
  {
   "cell_type": "code",
   "execution_count": null,
   "id": "36e19d5c-9fe1-444f-93f2-d8cab2965d27",
   "metadata": {},
   "outputs": [],
   "source": []
  }
 ],
 "metadata": {
  "kernelspec": {
   "display_name": "Python 3",
   "language": "python",
   "name": "python3"
  },
  "language_info": {
   "codemirror_mode": {
    "name": "ipython",
    "version": 3
   },
   "file_extension": ".py",
   "mimetype": "text/x-python",
   "name": "python",
   "nbconvert_exporter": "python",
   "pygments_lexer": "ipython3",
   "version": "3.9.1"
  }
 },
 "nbformat": 4,
 "nbformat_minor": 5
}
