{
 "cells": [
  {
   "cell_type": "code",
   "execution_count": 6,
   "id": "908ee2f8-6946-4e53-9504-61afa88fae82",
   "metadata": {},
   "outputs": [],
   "source": [
    "import sys\n",
    "import numpy as np\n",
    "import scipy as spy"
   ]
  },
  {
   "cell_type": "code",
   "execution_count": 38,
   "id": "d84bc203-0311-4bf4-a9c9-f27ab411c8c9",
   "metadata": {},
   "outputs": [],
   "source": [
    "from collections import defaultdict\n",
    "\n",
    "def findPaths(graph, node, visited):\n",
    "    # print(node, visited)\n",
    "    visited.append(node)\n",
    "    paths = 0\n",
    "    for i in graph[node]:\n",
    "        if i == \"end\":\n",
    "            paths += 1\n",
    "            # print(\"end\")\n",
    "        elif i.islower() and i not in visited:\n",
    "            paths += findPaths(graph, i, visited)\n",
    "        elif i.isupper():\n",
    "            paths += findPaths(graph, i, visited)\n",
    "    visited.pop()\n",
    "    return paths\n",
    "\n",
    "def part1(arr):\n",
    "    graph = defaultdict(list)\n",
    "    # Construct Graph\n",
    "    for line in arr:\n",
    "        a,b = line.split(\"-\")\n",
    "        graph[a].append(b)\n",
    "        graph[b].append(a)\n",
    "    total = findPaths(graph, \"start\", [])\n",
    "    \n",
    "    return total"
   ]
  },
  {
   "cell_type": "code",
   "execution_count": 50,
   "id": "a4278153-58b0-4703-b310-25727a80bc10",
   "metadata": {},
   "outputs": [],
   "source": [
    "def findPaths2(graph, node, visited, double=None):\n",
    "    visited.append(node)\n",
    "    paths = 0\n",
    "    for i in graph[node]:\n",
    "        if i == \"end\":\n",
    "            paths += 1\n",
    "        elif i.islower() and i not in visited:\n",
    "            paths += findPaths2(graph, i, visited, double)\n",
    "        elif i.islower() and double == None and i not in [\"start\", \"end\"]:\n",
    "            double = i\n",
    "            paths += findPaths2(graph, i, visited, double)\n",
    "            double = None\n",
    "        elif i.isupper():\n",
    "            paths += findPaths2(graph, i, visited, double)\n",
    "    visited.pop()\n",
    "    return paths\n",
    "\n",
    "def part2(arr):\n",
    "    graph = defaultdict(list)\n",
    "    # Construct Graph\n",
    "    for line in arr:\n",
    "        a,b = line.split(\"-\")\n",
    "        graph[a].append(b)\n",
    "        graph[b].append(a)\n",
    "    total = findPaths2(graph, \"start\", [])\n",
    "    \n",
    "    return total"
   ]
  },
  {
   "cell_type": "code",
   "execution_count": 52,
   "id": "f193ee46-f43d-4c2a-a51e-afd5cde4a25a",
   "metadata": {},
   "outputs": [
    {
     "name": "stdout",
     "output_type": "stream",
     "text": [
      "defaultdict(<class 'list'>, {'fs': ['end', 'he', 'DX', 'pj'], 'end': ['fs', 'zg'], 'he': ['DX', 'fs', 'pj', 'RW', 'WI', 'zg'], 'DX': ['he', 'start', 'pj', 'fs'], 'start': ['DX', 'pj', 'RW'], 'pj': ['DX', 'zg', 'he', 'RW', 'start', 'fs'], 'zg': ['end', 'sl', 'pj', 'RW', 'he'], 'sl': ['zg'], 'RW': ['he', 'pj', 'zg', 'start'], 'WI': ['he']})\n",
      "226\n",
      "3509\n"
     ]
    }
   ],
   "source": [
    "if __name__ == \"__main__\":\n",
    "    file = sys.argv[-1] if sys.argv[-1].endswith(\".txt\") else \"sample.txt\"\n",
    "    with open(file, \"r\") as f:\n",
    "        arr = f.read().splitlines()\n",
    "\n",
    "        print(part1(arr))\n",
    "        print(part2(arr))"
   ]
  },
  {
   "cell_type": "code",
   "execution_count": null,
   "id": "f1811fbd-40c1-4ffe-9de6-f52cf50e30c6",
   "metadata": {},
   "outputs": [],
   "source": []
  },
  {
   "cell_type": "code",
   "execution_count": null,
   "id": "c9883b04-7c48-4df9-8b73-44f1cddbbcff",
   "metadata": {},
   "outputs": [],
   "source": []
  }
 ],
 "metadata": {
  "kernelspec": {
   "display_name": "Python 3",
   "language": "python",
   "name": "python3"
  },
  "language_info": {
   "codemirror_mode": {
    "name": "ipython",
    "version": 3
   },
   "file_extension": ".py",
   "mimetype": "text/x-python",
   "name": "python",
   "nbconvert_exporter": "python",
   "pygments_lexer": "ipython3",
   "version": "3.9.1"
  }
 },
 "nbformat": 4,
 "nbformat_minor": 5
}
