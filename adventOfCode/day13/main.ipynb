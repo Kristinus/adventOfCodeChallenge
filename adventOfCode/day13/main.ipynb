{
 "cells": [
  {
   "cell_type": "code",
   "execution_count": 4,
   "id": "908ee2f8-6946-4e53-9504-61afa88fae82",
   "metadata": {},
   "outputs": [],
   "source": [
    "import sys\n",
    "import numpy as np"
   ]
  },
  {
   "cell_type": "code",
   "execution_count": 187,
   "id": "d84bc203-0311-4bf4-a9c9-f27ab411c8c9",
   "metadata": {},
   "outputs": [],
   "source": [
    "def part1(arr):\n",
    "    coords = []\n",
    "    foldLine = False\n",
    "    a = arr.index(\"\")\n",
    "    graph = np.array([[0]])\n",
    "    for line in arr[:a]:\n",
    "        y,x = line.split(\",\")\n",
    "        y,x = int(y), int(x)\n",
    "        \n",
    "        pad_y, pad_x = max(0, y - graph.shape[1]+1), max(0, x - graph.shape[0]+1)\n",
    "        graph = np.pad(graph, ((0, pad_x), (0,pad_y)), constant_values=0)\n",
    "        graph[x,y] = 1\n",
    "\n",
    "    # for line in arr[a+1:]:\n",
    "    line = arr[a+1]\n",
    "    fold, coord = line.split(\"=\")\n",
    "    fold = fold[-1]\n",
    "    if fold[-1] == \"x\":\n",
    "        flipped = np.flip(graph,1)\n",
    "        graph += flipped\n",
    "        graph = graph[:,:int(coord)]\n",
    "    else:\n",
    "        flipped = np.flip(graph,0)\n",
    "        graph += flipped\n",
    "        graph = graph[:int(coord)]\n",
    "    return len(np.where(graph > 0)[0])"
   ]
  },
  {
   "cell_type": "code",
   "execution_count": 191,
   "id": "a4278153-58b0-4703-b310-25727a80bc10",
   "metadata": {},
   "outputs": [],
   "source": [
    "def part2(arr):\n",
    "    coords = []\n",
    "    foldLine = False\n",
    "    a = arr.index(\"\")\n",
    "    graph = np.array([[0]])\n",
    "    for line in arr[:a]:\n",
    "        y,x = line.split(\",\")\n",
    "        y,x = int(y), int(x)\n",
    "        \n",
    "        pad_y, pad_x = max(0, y - graph.shape[1]+1), max(0, x - graph.shape[0]+1)\n",
    "        graph = np.pad(graph, ((0, pad_x), (0,pad_y)), constant_values=0)\n",
    "        graph[x,y] = 1\n",
    "\n",
    "    for line in arr[a+1:]:\n",
    "        fold, coord = line.split(\"=\")\n",
    "        fold = fold[-1]\n",
    "        if fold[-1] == \"x\":\n",
    "            flipped = np.flip(graph,1)\n",
    "            graph += flipped\n",
    "            graph = graph[:,:int(coord)]\n",
    "        else:\n",
    "            flipped = np.flip(graph,0)\n",
    "            graph += flipped\n",
    "            graph = graph[:int(coord)]\n",
    "    graph[np.where(graph > 0)] = 1\n",
    "    print(graph)\n",
    "    return len(np.where(graph > 0)[0])"
   ]
  },
  {
   "cell_type": "code",
   "execution_count": 192,
   "id": "f193ee46-f43d-4c2a-a51e-afd5cde4a25a",
   "metadata": {},
   "outputs": [
    {
     "name": "stdout",
     "output_type": "stream",
     "text": [
      "747\n",
      "[[0 1 1 0 0 1 1 1 0 0 1 0 0 1 0 1 1 1 1 0 1 1 1 0 0 0 1 1 0 0 1 0 0 1 0 1\n",
      "  0 0 1 0]\n",
      " [1 0 0 1 0 1 0 0 1 0 1 0 0 1 0 0 0 0 1 0 1 0 0 1 0 1 0 0 1 0 1 0 0 1 0 1\n",
      "  0 0 1 0]\n",
      " [1 0 0 1 0 1 0 0 1 0 1 1 1 1 0 0 0 1 0 0 1 0 0 1 0 1 0 0 0 0 1 0 0 1 0 1\n",
      "  1 1 1 0]\n",
      " [1 1 1 1 0 1 1 1 0 0 1 0 0 1 0 0 1 0 0 0 1 1 1 0 0 1 0 0 0 0 1 0 0 1 0 1\n",
      "  0 0 1 0]\n",
      " [1 0 0 1 0 1 0 1 0 0 1 0 0 1 0 1 0 0 0 0 1 0 0 0 0 1 0 0 1 0 1 0 0 1 0 1\n",
      "  0 0 1 0]\n",
      " [1 0 0 1 0 1 0 0 1 0 1 0 0 1 0 1 1 1 1 0 1 0 0 0 0 0 1 1 0 0 0 1 1 0 0 1\n",
      "  0 0 1 0]]\n",
      "102\n"
     ]
    }
   ],
   "source": [
    "if __name__ == \"__main__\":\n",
    "    file = sys.argv[-1] if sys.argv[-1].endswith(\".txt\") else \"input.txt\"\n",
    "    with open(file, \"r\") as f:\n",
    "        arr = f.read().splitlines()\n",
    "\n",
    "        print(part1(arr))\n",
    "        print(part2(arr))"
   ]
  },
  {
   "cell_type": "code",
   "execution_count": 186,
   "id": "f1811fbd-40c1-4ffe-9de6-f52cf50e30c6",
   "metadata": {},
   "outputs": [
    {
     "data": {
      "text/plain": [
       "array([[ 0,  1,  2,  3,  4,  5,  6,  7,  8,  9],\n",
       "       [10, 11, 12, 13, 14, 15, 16, 17, 18, 19],\n",
       "       [20, 21, 22, 23, 24, 25, 26, 27, 28, 29],\n",
       "       [30, 31, 32, 33, 34, 35, 36, 37, 38, 39],\n",
       "       [40, 41, 42, 43, 44, 45, 46, 47, 48, 49],\n",
       "       [50, 51, 52, 53, 54, 55, 56, 57, 58, 59],\n",
       "       [60, 61, 62, 63, 64, 65, 66, 67, 68, 69],\n",
       "       [70, 71, 72, 73, 74, 75, 76, 77, 78, 79],\n",
       "       [80, 81, 82, 83, 84, 85, 86, 87, 88, 89],\n",
       "       [90, 91, 92, 93, 94, 95, 96, 97, 98, 99]])"
      ]
     },
     "execution_count": 186,
     "metadata": {},
     "output_type": "execute_result"
    }
   ],
   "source": [
    "a = np.arange(100).reshape((10,10))\n",
    "a"
   ]
  },
  {
   "cell_type": "code",
   "execution_count": 168,
   "id": "8b67ae93-f8c2-4ae2-9543-7b8b60e7998f",
   "metadata": {},
   "outputs": [
    {
     "data": {
      "text/plain": [
       "array([[ 0,  1,  2,  3,  4,  5,  6],\n",
       "       [10, 11, 12, 13, 14, 15, 16],\n",
       "       [20, 21, 22, 23, 24, 25, 26],\n",
       "       [30, 31, 32, 33, 34, 35, 36],\n",
       "       [40, 41, 42, 43, 44, 45, 46],\n",
       "       [50, 51, 52, 53, 54, 55, 56],\n",
       "       [60, 61, 62, 63, 64, 65, 66],\n",
       "       [70, 71, 72, 73, 74, 75, 76],\n",
       "       [80, 81, 82, 83, 84, 85, 86],\n",
       "       [90, 91, 92, 93, 94, 95, 96]])"
      ]
     },
     "execution_count": 168,
     "metadata": {},
     "output_type": "execute_result"
    }
   ],
   "source": [
    "a[:,:7]"
   ]
  },
  {
   "cell_type": "code",
   "execution_count": null,
   "id": "cac01fc8-d32c-4f4f-8694-adfb092c2645",
   "metadata": {},
   "outputs": [],
   "source": []
  }
 ],
 "metadata": {
  "kernelspec": {
   "display_name": "Python 3",
   "language": "python",
   "name": "python3"
  },
  "language_info": {
   "codemirror_mode": {
    "name": "ipython",
    "version": 3
   },
   "file_extension": ".py",
   "mimetype": "text/x-python",
   "name": "python",
   "nbconvert_exporter": "python",
   "pygments_lexer": "ipython3",
   "version": "3.9.1"
  }
 },
 "nbformat": 4,
 "nbformat_minor": 5
}
