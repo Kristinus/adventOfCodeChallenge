{
 "cells": [
  {
   "cell_type": "code",
   "execution_count": 4,
   "id": "908ee2f8-6946-4e53-9504-61afa88fae82",
   "metadata": {},
   "outputs": [],
   "source": [
    "import sys\n",
    "import numpy as np"
   ]
  },
  {
   "cell_type": "code",
   "execution_count": 13,
   "id": "bef236e7-01d3-4959-b761-1ccffe9d89d6",
   "metadata": {},
   "outputs": [],
   "source": [
    "def part1(arr):\n",
    "    arr = np.array([int(i) for i in arr[0].split(\",\")])\n",
    "    state = dict(enumerate(np.zeros(9)))\n",
    "    for i in arr:\n",
    "        state[i] += 1\n",
    "    for x in range(80):\n",
    "        born = state[0]\n",
    "        ref = state[0]\n",
    "        for i in range(1,8):\n",
    "            state[i-1] = state[1]\n",
    "        state[6] += ref\n",
    "        state[8] = ref\n",
    "\n",
    "    return sum(state.values())"
   ]
  },
  {
   "cell_type": "code",
   "execution_count": 69,
   "id": "5fac7478-1919-490a-a91b-b111cdfc7d7e",
   "metadata": {},
   "outputs": [],
   "source": [
    "def part2(arr):\n",
    "    state = np.array([int(i) for i in arr[0].split(\",\")])\n",
    "    # for x in range(256):\n",
    "    #     state -= np.ones(state.shape, dtype=\"int32\")\n",
    "    #     new = len(np.where(state < 0)[0])\n",
    "    #     state[state < 0] = 6\n",
    "    #     state = np.append(state, [8] * new)\n",
    "    return len(state)"
   ]
  },
  {
   "cell_type": "code",
   "execution_count": 14,
   "id": "14f2d01d-3e57-487f-8e8d-f868cf39a914",
   "metadata": {},
   "outputs": [
    {
     "name": "stdout",
     "output_type": "stream",
     "text": [
      "{0: 0.0, 1: 0.0, 2: 0.0, 3: 0.0, 4: 0.0, 5: 0.0, 6: 0.0, 7: 0.0, 8: 0.0}\n",
      "9\n"
     ]
    },
    {
     "ename": "NameError",
     "evalue": "name 'part2' is not defined",
     "output_type": "error",
     "traceback": [
      "\u001b[0;31m---------------------------------------------------------------------------\u001b[0m",
      "\u001b[0;31mNameError\u001b[0m                                 Traceback (most recent call last)",
      "\u001b[0;32m/var/folders/63/p10v20jd37df2dqqlxx29ky00000gn/T/ipykernel_59412/838347320.py\u001b[0m in \u001b[0;36m<module>\u001b[0;34m\u001b[0m\n\u001b[1;32m      4\u001b[0m \u001b[0;34m\u001b[0m\u001b[0m\n\u001b[1;32m      5\u001b[0m         \u001b[0mprint\u001b[0m\u001b[0;34m(\u001b[0m\u001b[0mpart1\u001b[0m\u001b[0;34m(\u001b[0m\u001b[0marr\u001b[0m\u001b[0;34m)\u001b[0m\u001b[0;34m)\u001b[0m\u001b[0;34m\u001b[0m\u001b[0;34m\u001b[0m\u001b[0m\n\u001b[0;32m----> 6\u001b[0;31m         \u001b[0mprint\u001b[0m\u001b[0;34m(\u001b[0m\u001b[0mpart2\u001b[0m\u001b[0;34m(\u001b[0m\u001b[0marr\u001b[0m\u001b[0;34m)\u001b[0m\u001b[0;34m)\u001b[0m\u001b[0;34m\u001b[0m\u001b[0;34m\u001b[0m\u001b[0m\n\u001b[0m",
      "\u001b[0;31mNameError\u001b[0m: name 'part2' is not defined"
     ]
    }
   ],
   "source": [
    "if __name__ == \"__main__\":\n",
    "    with open(\"sample.txt\", \"r\") as f:\n",
    "        arr = f.read().splitlines()\n",
    "    \n",
    "        print(part1(arr))\n",
    "        print(part2(arr))"
   ]
  },
  {
   "cell_type": "code",
   "execution_count": null,
   "id": "37cb23dd-3801-498a-b40c-c35fe5f037da",
   "metadata": {},
   "outputs": [],
   "source": []
  },
  {
   "cell_type": "code",
   "execution_count": null,
   "id": "36e19d5c-9fe1-444f-93f2-d8cab2965d27",
   "metadata": {},
   "outputs": [],
   "source": []
  }
 ],
 "metadata": {
  "kernelspec": {
   "display_name": "Python 3 (ipykernel)",
   "language": "python",
   "name": "python3"
  },
  "language_info": {
   "codemirror_mode": {
    "name": "ipython",
    "version": 3
   },
   "file_extension": ".py",
   "mimetype": "text/x-python",
   "name": "python",
   "nbconvert_exporter": "python",
   "pygments_lexer": "ipython3",
   "version": "3.9.6"
  }
 },
 "nbformat": 4,
 "nbformat_minor": 5
}
