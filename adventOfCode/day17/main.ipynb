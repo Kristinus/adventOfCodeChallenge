{
 "cells": [
  {
   "cell_type": "code",
   "execution_count": 2,
   "id": "d15949fe-0000-444e-9ee2-e1ec3dbef61b",
   "metadata": {},
   "outputs": [],
   "source": [
    "import sys\n",
    "import numpy as np\n",
    "import math\n",
    "import operator\n",
    "import functools"
   ]
  },
  {
   "cell_type": "code",
   "execution_count": 34,
   "id": "38caddc7-36c9-4381-a3fc-4b3470bc2c49",
   "metadata": {},
   "outputs": [],
   "source": [
    "def addDrag(vel):\n",
    "    if vel[0] > 0:\n",
    "        vel[0] -= 1\n",
    "    elif vel[0] < 0:\n",
    "        vel[0] += 1\n",
    "def reachTarget(init_vel, target):\n",
    "    pos = [0,0]\n",
    "    while pos[1] >= min(target[1]):\n",
    "        pos[0] += init_vel[0]\n",
    "        pos[1] += init_vel[1]\n",
    "        print(pos)\n",
    "        addDrag(init_vel)\n",
    "        init_vel[1] += -1\n",
    "        if pos[0] in target[0] and pos[1] in target[1]:\n",
    "            return True\n",
    "    return False"
   ]
  },
  {
   "cell_type": "code",
   "execution_count": 68,
   "id": "d84bc203-0311-4bf4-a9c9-f27ab411c8c9",
   "metadata": {},
   "outputs": [],
   "source": [
    "def part1(arr):\n",
    "    arr = arr[0]\n",
    "    arr = arr[arr.index(\"x\"):]\n",
    "    target = [[int(x) for x in i[2:].split(\"..\")] for i in arr.split(\", \")]\n",
    "    \n",
    "    target[0] = [x for x in range(target[0][0], (target[0][1]+1) if target[0][1] > 0 else (target[1][1]-1))]\n",
    "    target[1] = [x for x in range(target[1][0], (target[1][1]+1) if target[0][1] > 0 else (target[1][1]-1))]\n",
    "\n",
    "    init_vel = [1,0]\n",
    "    highest = (0,0)\n",
    "    for i in range(200):\n",
    "        vel = init_vel.copy()\n",
    "        prev_pos = [0,0]\n",
    "        pos = [0,0]\n",
    "        pos_lst = [pos[1]]\n",
    "        while pos[1] > min(target[1]):\n",
    "            prev_pos = pos.copy()\n",
    "            pos[1] += vel[1]\n",
    "            vel[1] += -1\n",
    "            pos_lst.append(pos[1])\n",
    "            if pos[1] in target[1] and max(pos_lst) > highest[1]:\n",
    "                highest = (init_vel[1], max(pos_lst))\n",
    "        init_vel[1] += 1\n",
    "    return f\"init_y_velocity={highest[0]} | highest_y_value={highest[1]}\""
   ]
  },
  {
   "cell_type": "code",
   "execution_count": 66,
   "id": "a4278153-58b0-4703-b310-25727a80bc10",
   "metadata": {},
   "outputs": [],
   "source": [
    "def part2(arr):\n",
    "    arr = arr[0]\n",
    "    arr = arr[arr.index(\"x\"):]\n",
    "    target = [[int(x) for x in i[2:].split(\"..\")] for i in arr.split(\", \")]\n",
    "    \n",
    "    target[0] = [x for x in range(target[0][0], (target[0][1]+1) if target[0][1] > 0 else (target[1][1]-1))]\n",
    "    target[1] = [x for x in range(target[1][0], (target[1][1]+1) if target[0][1] > 0 else (target[1][1]-1))]\n",
    "    \n",
    "    # Brute force\n",
    "    vel_lst = []\n",
    "    for x in range(1,max(target[0])+1):\n",
    "        for y in range(min(target[1]), abs(min(target[1]))+1):\n",
    "            vel = [x,y]\n",
    "            pos = [0,0]\n",
    "            while pos[1] >= min(target[1]):\n",
    "                pos[0] += vel[0]\n",
    "                pos[1] += vel[1]\n",
    "                addDrag(vel)\n",
    "                vel[1] += -1\n",
    "                if pos[0] in target[0] and pos[1] in target[1]:\n",
    "                    vel_lst.append((x,y))\n",
    "                    break\n",
    "    return len(vel_lst)"
   ]
  },
  {
   "cell_type": "code",
   "execution_count": 67,
   "id": "f193ee46-f43d-4c2a-a51e-afd5cde4a25a",
   "metadata": {},
   "outputs": [
    {
     "name": "stdout",
     "output_type": "stream",
     "text": [
      "init_y_velocity=123 | highest_y_value=7626\n",
      "2032\n"
     ]
    }
   ],
   "source": [
    "if __name__ == \"__main__\":\n",
    "    file = sys.argv[-1] if sys.argv[-1].endswith(\".txt\") else \"input.txt\"\n",
    "    with open(file, \"r\") as f:\n",
    "        arr = f.read().splitlines()\n",
    "\n",
    "        print(part1(arr))\n",
    "        print(part2(arr))"
   ]
  },
  {
   "cell_type": "code",
   "execution_count": null,
   "id": "f1811fbd-40c1-4ffe-9de6-f52cf50e30c6",
   "metadata": {},
   "outputs": [],
   "source": []
  },
  {
   "cell_type": "code",
   "execution_count": null,
   "id": "fb2b99bb-261e-475d-91cc-e2b503a52993",
   "metadata": {},
   "outputs": [],
   "source": []
  },
  {
   "cell_type": "code",
   "execution_count": null,
   "id": "483f75e9-aedc-43b5-b096-f3e37c8a7aee",
   "metadata": {},
   "outputs": [],
   "source": []
  }
 ],
 "metadata": {
  "kernelspec": {
   "display_name": "Python 3",
   "language": "python",
   "name": "python3"
  },
  "language_info": {
   "codemirror_mode": {
    "name": "ipython",
    "version": 3
   },
   "file_extension": ".py",
   "mimetype": "text/x-python",
   "name": "python",
   "nbconvert_exporter": "python",
   "pygments_lexer": "ipython3",
   "version": "3.9.1"
  }
 },
 "nbformat": 4,
 "nbformat_minor": 5
}
