{
 "cells": [
  {
   "cell_type": "code",
   "execution_count": 4,
   "id": "908ee2f8-6946-4e53-9504-61afa88fae82",
   "metadata": {},
   "outputs": [],
   "source": [
    "import sys\n",
    "import numpy as np"
   ]
  },
  {
   "cell_type": "code",
   "execution_count": 49,
   "id": "bef236e7-01d3-4959-b761-1ccffe9d89d6",
   "metadata": {},
   "outputs": [],
   "source": [
    "def part1(arr):\n",
    "    _arr = np.array([int(i) for i in arr[0].split(\",\")])\n",
    "    state = dict(enumerate(np.zeros(9)))\n",
    "    for i in _arr:\n",
    "        state[i] += 1\n",
    "    for x in range(80):\n",
    "        born = state[0]\n",
    "        ref = state[0]\n",
    "        for i in range(1,9):\n",
    "            state[i-1] = state[i]\n",
    "        state[6] += ref\n",
    "        state[8] = ref\n",
    "    return sum(state.values())"
   ]
  },
  {
   "cell_type": "code",
   "execution_count": 50,
   "id": "5fac7478-1919-490a-a91b-b111cdfc7d7e",
   "metadata": {},
   "outputs": [],
   "source": [
    "def part2(arr):\n",
    "    _arr = np.array([int(i) for i in arr[0].split(\",\")])\n",
    "    state = dict(enumerate(np.zeros(9)))\n",
    "    for i in _arr:\n",
    "        state[i] += 1\n",
    "    for x in range(256):\n",
    "        born = state[0]\n",
    "        ref = state[0]\n",
    "        for i in range(1,9):\n",
    "            state[i-1] = state[i]\n",
    "        state[6] += ref\n",
    "        state[8] = ref\n",
    "    return sum(state.values())"
   ]
  },
  {
   "cell_type": "code",
   "execution_count": 52,
   "id": "14f2d01d-3e57-487f-8e8d-f868cf39a914",
   "metadata": {},
   "outputs": [
    {
     "name": "stdout",
     "output_type": "stream",
     "text": [
      "390923.0\n",
      "1749945484935.0\n"
     ]
    }
   ],
   "source": [
    "if __name__ == \"__main__\":\n",
    "    with open(\"input.txt\", \"r\") as f:\n",
    "        arr = f.read().splitlines()\n",
    "    \n",
    "        print(part1(arr))\n",
    "        print(part2(arr))"
   ]
  },
  {
   "cell_type": "code",
   "execution_count": null,
   "id": "37cb23dd-3801-498a-b40c-c35fe5f037da",
   "metadata": {},
   "outputs": [],
   "source": []
  },
  {
   "cell_type": "code",
   "execution_count": null,
   "id": "36e19d5c-9fe1-444f-93f2-d8cab2965d27",
   "metadata": {},
   "outputs": [],
   "source": []
  }
 ],
 "metadata": {
  "kernelspec": {
   "display_name": "Python 3 (ipykernel)",
   "language": "python",
   "name": "python3"
  },
  "language_info": {
   "codemirror_mode": {
    "name": "ipython",
    "version": 3
   },
   "file_extension": ".py",
   "mimetype": "text/x-python",
   "name": "python",
   "nbconvert_exporter": "python",
   "pygments_lexer": "ipython3",
   "version": "3.9.6"
  }
 },
 "nbformat": 4,
 "nbformat_minor": 5
}
