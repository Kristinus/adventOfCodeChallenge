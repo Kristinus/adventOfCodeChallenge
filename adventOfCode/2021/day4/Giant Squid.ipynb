{
 "cells": [
  {
   "cell_type": "code",
   "execution_count": 128,
   "id": "475e9462-cdd1-4593-8fbc-fb46c270e8b5",
   "metadata": {},
   "outputs": [],
   "source": [
    "import sys\n",
    "import numpy as np\n",
    "\n",
    "class Board:\n",
    "    def __init__(self, board):\n",
    "        self.board = np.array(board)\n",
    "        self.marked = np.array([[False] * 5] * 5)\n",
    "    \n",
    "    def mark(self, num):\n",
    "        # if num == 16:\n",
    "        #     print(self.board)\n",
    "        #     print(16 in self.board)\n",
    "        if num in self.board:\n",
    "            # if num == 16:\n",
    "            #     print(self.board)\n",
    "            #     print(self.marked)\n",
    "            [x],[y] = np.where(self.board == num)\n",
    "            self.marked[x][y] = True\n",
    "            # if num == 16:\n",
    "            #     print(x,y)\n",
    "            #     print(self.marked)\n",
    "            return self.isBingo()\n",
    "\n",
    "    def isBingo(self):\n",
    "        if np.any(np.all(self.marked, axis=0)):\n",
    "            return True\n",
    "        if np.any(np.all(self.marked, axis=1)):\n",
    "            return True\n",
    "        return False\n",
    "    \n",
    "    def get_sum(self):\n",
    "        return np.sum(self.board[np.where(self.marked == False)])"
   ]
  },
  {
   "cell_type": "code",
   "execution_count": 103,
   "id": "60a16836-6bb4-4489-a81f-f82034a12686",
   "metadata": {},
   "outputs": [],
   "source": [
    "def part1(arr):\n",
    "    boards = []\n",
    "    nums = [int(x) for x in arr[0].strip().split(\",\")]\n",
    "    i = 2\n",
    "    while(i < len(arr)):\n",
    "        board = [ [int(y) for y in x.strip().split()] for x in arr[i:i+5] ]\n",
    "        boards.append(Board(board))\n",
    "        i += 6\n",
    "    \n",
    "    for num in nums:\n",
    "        for board in boards:\n",
    "            if board.mark(num):\n",
    "                win_board = board\n",
    "                break\n",
    "        else:\n",
    "            continue\n",
    "        break\n",
    "    \n",
    "    return win_board.get_sum() * num"
   ]
  },
  {
   "cell_type": "code",
   "execution_count": 148,
   "id": "d432d6e2-f131-42e9-9c54-2d4cdea47722",
   "metadata": {},
   "outputs": [],
   "source": [
    "def part2(arr):\n",
    "    boards = []\n",
    "    nums = [int(x) for x in arr[0].strip().split(\",\")]\n",
    "    i = 2\n",
    "    while(i < len(arr)):\n",
    "        board = [ [int(y) for y in x.strip().split()] for x in arr[i:i+5] ]\n",
    "        boards.append(Board(board))\n",
    "        i += 6\n",
    "    \n",
    "    for num in nums:\n",
    "        new_boards = []\n",
    "        for board in boards:\n",
    "            isBingo = board.mark(num)\n",
    "            if not isBingo:\n",
    "                new_boards.append(board)\n",
    "        if len(new_boards) == 0:\n",
    "            lose_board = board\n",
    "            break\n",
    "        else:\n",
    "            boards = new_boards\n",
    "    return lose_board.get_sum() * num"
   ]
  },
  {
   "cell_type": "code",
   "execution_count": 149,
   "id": "a6ba311f-6041-44bb-9850-ee395c1e1a33",
   "metadata": {},
   "outputs": [
    {
     "name": "stdout",
     "output_type": "stream",
     "text": [
      "23177\n",
      "6804\n"
     ]
    }
   ],
   "source": [
    "if __name__ == \"__main__\":\n",
    "    with open(\"input.txt\", \"r\") as f:\n",
    "        arr = f.read().splitlines()\n",
    "    \n",
    "        print(part1(arr))\n",
    "        print(part2(arr))"
   ]
  },
  {
   "cell_type": "code",
   "execution_count": 75,
   "id": "4a83458d-641f-4528-8c71-30eb8af24c3a",
   "metadata": {},
   "outputs": [
    {
     "name": "stdout",
     "output_type": "stream",
     "text": [
      "0 0\n"
     ]
    }
   ],
   "source": [
    "test = np.array([[0,1],[2,3]])\n",
    "[x],[y] = np.where(test == 0)\n",
    "print(x,y)"
   ]
  }
 ],
 "metadata": {
  "kernelspec": {
   "display_name": "Python 3",
   "language": "python",
   "name": "python3"
  },
  "language_info": {
   "codemirror_mode": {
    "name": "ipython",
    "version": 3
   },
   "file_extension": ".py",
   "mimetype": "text/x-python",
   "name": "python",
   "nbconvert_exporter": "python",
   "pygments_lexer": "ipython3",
   "version": "3.9.1"
  }
 },
 "nbformat": 4,
 "nbformat_minor": 5
}
