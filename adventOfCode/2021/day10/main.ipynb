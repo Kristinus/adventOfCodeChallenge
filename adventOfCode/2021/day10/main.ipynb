{
 "cells": [
  {
   "cell_type": "code",
   "execution_count": 6,
   "id": "908ee2f8-6946-4e53-9504-61afa88fae82",
   "metadata": {},
   "outputs": [],
   "source": [
    "import sys\n",
    "import numpy as np"
   ]
  },
  {
   "cell_type": "code",
   "execution_count": 71,
   "id": "d2d306b5-51ab-4641-ae1c-8ec27679cd4a",
   "metadata": {},
   "outputs": [],
   "source": [
    "def isOpen(char):\n",
    "    return char in [\"(\", \"[\", \"{\", \"<\"]\n",
    "\n",
    "def matchClose(open, close):\n",
    "    return (open, close) in [(\"(\", \")\"), (\"[\", \"]\"), (\"{\", \"}\"), (\"<\", \">\")]\n",
    "\n",
    "def getScore(char):\n",
    "    mapping = { \")\": 3, \"]\": 57, \"}\": 1197, \">\": 25137 }\n",
    "    return mapping[char]\n",
    "\n",
    "def getMatching(open):\n",
    "    mapping = {\"(\": \")\", \"[\": \"]\", \"{\": \"}\", \"<\": \">\"}\n",
    "    return mapping[open]"
   ]
  },
  {
   "cell_type": "code",
   "execution_count": 72,
   "id": "8ee8306b-3555-4866-a485-8786d28f6d5a",
   "metadata": {},
   "outputs": [],
   "source": [
    "def part1(arr):\n",
    "    total = 0\n",
    "    for line in arr:\n",
    "        stack = []\n",
    "        for i in line:\n",
    "            if isOpen(i):\n",
    "                stack.append(i)\n",
    "            # isClose\n",
    "            elif matchClose(stack[-1], i):\n",
    "                stack.pop()\n",
    "            else:\n",
    "                total += getScore(i)\n",
    "                break\n",
    "    return total"
   ]
  },
  {
   "cell_type": "code",
   "execution_count": 79,
   "id": "a4278153-58b0-4703-b310-25727a80bc10",
   "metadata": {},
   "outputs": [],
   "source": [
    "def getCompleteScore(char):\n",
    "    mapping = { \")\": 1, \"]\": 2, \"}\": 3, \">\": 4 }\n",
    "    return mapping[char]\n",
    "\n",
    "def part2(arr):\n",
    "    scores = []\n",
    "    for line in arr:\n",
    "        stack = []\n",
    "        for i in line:\n",
    "            if isOpen(i):\n",
    "                stack.append(i)\n",
    "            # isClose\n",
    "            elif matchClose(stack[-1], i):\n",
    "                stack.pop()\n",
    "            else:\n",
    "                break\n",
    "        else:\n",
    "            remain = [getMatching(i) for i in stack]\n",
    "            remain.reverse()\n",
    "            score = 0\n",
    "            for j in remain:\n",
    "                score *= 5\n",
    "                score += getCompleteScore(j)\n",
    "            scores.append(score)\n",
    "    print(scores)\n",
    "    scores.sort()\n",
    "    return scores[mathlen(scores/2"
   ]
  },
  {
   "cell_type": "code",
   "execution_count": 80,
   "id": "f193ee46-f43d-4c2a-a51e-afd5cde4a25a",
   "metadata": {},
   "outputs": [
    {
     "name": "stdout",
     "output_type": "stream",
     "text": [
      "26397\n",
      "['[', '(', '{', '(', '[', '[', '{', '{']\n",
      "['}', '}', ']', ']', ')', '}', ')', ']']\n",
      "['(', '{', '[', '<', '{', '(']\n",
      "[')', '}', '>', ']', '}', ')']\n",
      "['(', '(', '(', '(', '<', '{', '<', '{', '{']\n",
      "['}', '}', '>', '}', '>', ')', ')', ')', ')']\n",
      "['<', '{', '[', '{', '[', '{', '{', '[', '[']\n",
      "[']', ']', '}', '}', ']', '}', ']', '}', '>']\n",
      "['<', '{', '(', '[']\n",
      "[']', ')', '}', '>']\n",
      "[288957, 5566, 1480781, 995444, 294]\n",
      "None\n"
     ]
    }
   ],
   "source": [
    "if __name__ == \"__main__\":\n",
    "    file = sys.argv[-1] if sys.argv[-1].endswith(\".txt\") else \"sample.txt\"\n",
    "    with open(file, \"r\") as f:\n",
    "        arr = f.read().splitlines()\n",
    "\n",
    "        print(part1(arr))\n",
    "        print(part2(arr))"
   ]
  },
  {
   "cell_type": "code",
   "execution_count": null,
   "id": "f1811fbd-40c1-4ffe-9de6-f52cf50e30c6",
   "metadata": {},
   "outputs": [],
   "source": []
  },
  {
   "cell_type": "code",
   "execution_count": null,
   "id": "fa0bddbc-4162-4182-9696-b7714c1e652d",
   "metadata": {},
   "outputs": [],
   "source": []
  }
 ],
 "metadata": {
  "kernelspec": {
   "display_name": "Python 3",
   "language": "python",
   "name": "python3"
  },
  "language_info": {
   "codemirror_mode": {
    "name": "ipython",
    "version": 3
   },
   "file_extension": ".py",
   "mimetype": "text/x-python",
   "name": "python",
   "nbconvert_exporter": "python",
   "pygments_lexer": "ipython3",
   "version": "3.9.1"
  }
 },
 "nbformat": 4,
 "nbformat_minor": 5
}
