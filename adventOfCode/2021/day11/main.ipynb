{
 "cells": [
  {
   "cell_type": "code",
   "execution_count": 1,
   "id": "908ee2f8-6946-4e53-9504-61afa88fae82",
   "metadata": {},
   "outputs": [],
   "source": [
    "import sys\n",
    "import numpy as np"
   ]
  },
  {
   "cell_type": "code",
   "execution_count": 2,
   "id": "afd97241-386c-4dd4-b514-5adfc00425c0",
   "metadata": {},
   "outputs": [],
   "source": [
    "def addAdjascent(grid, flashes):\n",
    "    flashed = []\n",
    "    total = 0\n",
    "    for x, y in zip(flashes[0], flashes[1]):\n",
    "        grid[x,y] = 0\n",
    "        flashed.append((x,y))\n",
    "        for i,j in [(x-1, y-1), (x-1, y), (x-1, y+1),(x, y-1), (x, y+1), (x+1, y-1), (x+1, y), (x+1, y+1)]:\n",
    "            if i >= 0 and i < 10 and j >= 0 and j < 10 and (i,j) not in flashed:\n",
    "                total += 1\n",
    "                grid[i,j] += 1\n",
    "        grid[x,y] = 0\n",
    "    return total\n",
    "        "
   ]
  },
  {
   "cell_type": "code",
   "execution_count": 35,
   "id": "363180a6-593e-49e3-9dcf-ce2b92ceae78",
   "metadata": {},
   "outputs": [],
   "source": [
    "def part1(arr):\n",
    "    grid = np.array([[int(i) for i in line] for line in arr])\n",
    "    total = 0\n",
    "    \n",
    "    for i in range(100):\n",
    "        # print(f\"step {i+1}\")\n",
    "        grid += 1\n",
    "        flashed = []\n",
    "        while(flashes := np.where(grid > 9)):\n",
    "            if len(flashes[0]) == 0:\n",
    "                break\n",
    "            for x, y in zip(flashes[0], flashes[1]):\n",
    "                grid[x,y] = -9\n",
    "                flashed.append((x,y))\n",
    "                for i,j in [(x-1, y-1), (x-1, y), (x-1, y+1),(x, y-1), (x, y+1), (x+1, y-1), (x+1, y), (x+1, y+1)]:\n",
    "                    if i >= 0 and i < 10 and j >= 0 and j < 10:\n",
    "                        grid[i,j] += 1\n",
    "        grid = np.where(grid < 0, 0, grid)\n",
    "        total += len(flashed)\n",
    "        # print(grid)\n",
    "    # print(total)\n",
    "    return total"
   ]
  },
  {
   "cell_type": "code",
   "execution_count": 36,
   "id": "a4278153-58b0-4703-b310-25727a80bc10",
   "metadata": {},
   "outputs": [],
   "source": [
    "def part2(arr):\n",
    "    grid = np.array([[int(i) for i in line] for line in arr])    \n",
    "    for i in range\n",
    "        # print(f\"step {i+1}\")\n",
    "        grid += 1\n",
    "        flashed = []\n",
    "        while(flashes := np.where(grid > 9)):\n",
    "            if len(flashes[0]) == 0:\n",
    "                break\n",
    "            for x, y in zip(flashes[0], flashes[1]):\n",
    "                grid[x,y] = -9\n",
    "                flashed.append((x,y))\n",
    "                for i,j in [(x-1, y-1), (x-1, y), (x-1, y+1),(x, y-1), (x, y+1), (x+1, y-1), (x+1, y), (x+1, y+1)]:\n",
    "                    if i >= 0 and i < 10 and j >= 0 and j < 10:\n",
    "                        grid[i,j] += 1\n",
    "        if len(flashed) == 100:\n",
    "            return \n",
    "        grid = np.where(grid < 0, 0, grid)\n",
    "        total += len(flashed)\n",
    "    return"
   ]
  },
  {
   "cell_type": "code",
   "execution_count": 38,
   "id": "f193ee46-f43d-4c2a-a51e-afd5cde4a25a",
   "metadata": {},
   "outputs": [
    {
     "name": "stdout",
     "output_type": "stream",
     "text": [
      "1652\n",
      "None\n"
     ]
    }
   ],
   "source": [
    "if __name__ == \"__main__\":\n",
    "    file = sys.argv[-1] if sys.argv[-1].endswith(\".txt\") else \"sample.txt\"\n",
    "    with open(file, \"r\") as f:\n",
    "        arr = f.read().splitlines()\n",
    "\n",
    "        print(part1(arr))\n",
    "        print(part2(arr))"
   ]
  },
  {
   "cell_type": "code",
   "execution_count": null,
   "id": "b806816b-e397-41e1-bd5a-151aafb86097",
   "metadata": {},
   "outputs": [],
   "source": []
  },
  {
   "cell_type": "code",
   "execution_count": null,
   "id": "bae0b13f-a59e-4ca0-9dfa-084f99d8b63c",
   "metadata": {},
   "outputs": [],
   "source": []
  },
  {
   "cell_type": "code",
   "execution_count": null,
   "id": "19d44f29-f608-4228-9623-652ed712239f",
   "metadata": {},
   "outputs": [],
   "source": []
  },
  {
   "cell_type": "code",
   "execution_count": null,
   "id": "f1811fbd-40c1-4ffe-9de6-f52cf50e30c6",
   "metadata": {},
   "outputs": [],
   "source": []
  }
 ],
 "metadata": {
  "kernelspec": {
   "display_name": "Python 3",
   "language": "python",
   "name": "python3"
  },
  "language_info": {
   "codemirror_mode": {
    "name": "ipython",
    "version": 3
   },
   "file_extension": ".py",
   "mimetype": "text/x-python",
   "name": "python",
   "nbconvert_exporter": "python",
   "pygments_lexer": "ipython3",
   "version": "3.9.1"
  }
 },
 "nbformat": 4,
 "nbformat_minor": 5
}
