{
 "cells": [
  {
   "cell_type": "code",
   "execution_count": 1,
   "id": "908ee2f8-6946-4e53-9504-61afa88fae82",
   "metadata": {},
   "outputs": [],
   "source": [
    "import sys\n",
    "import numpy as np\n",
    "import math\n",
    "import operator\n",
    "import functools\n",
    "import json\n",
    "from pprint import pprint\n",
    "from tqdm.notebook import tqdm, trange"
   ]
  },
  {
   "cell_type": "code",
   "execution_count": 11,
   "id": "d84bc203-0311-4bf4-a9c9-f27ab411c8c9",
   "metadata": {},
   "outputs": [],
   "source": [
    "def part1(list1: list[int], list2: list[int]):\n",
    "    list1.sort()\n",
    "    list2.sort()\n",
    "    \n",
    "    total_dist = 0\n",
    "    for i, j in zip(list1, list2):\n",
    "        total_dist += abs(i - j)\n",
    "        \n",
    "    return total_dist"
   ]
  },
  {
   "cell_type": "code",
   "execution_count": 17,
   "id": "a4278153-58b0-4703-b310-25727a80bc10",
   "metadata": {},
   "outputs": [],
   "source": [
    "from collections import defaultdict\n",
    "def part2(list1: list[int], list2: list[int]):\n",
    "    list2_map = defaultdict(int)\n",
    "    for i in list2:\n",
    "        list2_map[i] += 1\n",
    "    \n",
    "    sim_score = 0\n",
    "    for i in list1:\n",
    "        sim_score += list2_map[i] * i\n",
    "        \n",
    "    return sim_score"
   ]
  },
  {
   "cell_type": "code",
   "execution_count": 18,
   "id": "f193ee46-f43d-4c2a-a51e-afd5cde4a25a",
   "metadata": {},
   "outputs": [
    {
     "name": "stdout",
     "output_type": "stream",
     "text": [
      "1222801\n",
      "22545250\n"
     ]
    }
   ],
   "source": [
    "if __name__ == \"__main__\":\n",
    "    # file = sys.argv[-1] if sys.argv[-1].endswith(\".txt\") else \"sample.txt\"\n",
    "    file = \"input.txt\"\n",
    "    with open(file, \"r\") as f:\n",
    "        arr = f.read().splitlines()\n",
    "\n",
    "        list1 = []\n",
    "        list2 = []\n",
    "        for i in arr:\n",
    "            j = i.split(\"   \")\n",
    "            list1.append(int(j[0]))\n",
    "            list2.append(int(j[1]))\n",
    "\n",
    "        print(part1(list1, list2))\n",
    "        print(part2(list1, list2))"
   ]
  },
  {
   "cell_type": "code",
   "execution_count": null,
   "id": "0e4d3ead",
   "metadata": {},
   "outputs": [],
   "source": []
  }
 ],
 "metadata": {
  "kernelspec": {
   "display_name": ".venv",
   "language": "python",
   "name": "python3"
  },
  "language_info": {
   "codemirror_mode": {
    "name": "ipython",
    "version": 3
   },
   "file_extension": ".py",
   "mimetype": "text/x-python",
   "name": "python",
   "nbconvert_exporter": "python",
   "pygments_lexer": "ipython3",
   "version": "3.9.16"
  }
 },
 "nbformat": 4,
 "nbformat_minor": 5
}
