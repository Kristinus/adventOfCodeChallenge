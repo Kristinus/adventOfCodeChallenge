{
 "cells": [
  {
   "cell_type": "code",
   "execution_count": 1,
   "id": "908ee2f8-6946-4e53-9504-61afa88fae82",
   "metadata": {},
   "outputs": [],
   "source": [
    "import sys\n",
    "import numpy as np\n",
    "import math\n",
    "import operator\n",
    "import functools\n",
    "import json\n",
    "from pprint import pprint\n",
    "from tqdm.notebook import tqdm, trange"
   ]
  },
  {
   "cell_type": "code",
   "execution_count": null,
   "id": "d84bc203-0311-4bf4-a9c9-f27ab411c8c9",
   "metadata": {},
   "outputs": [],
   "source": [
    "def part1(arr):\n",
    "    safe = 0\n",
    "    for row in arr:\n",
    "        prev = None\n",
    "        increasing = None\n",
    "        for l in row.split(\" \"):\n",
    "            if prev is None:\n",
    "                prev = int(l)\n",
    "                continue\n",
    "            if prev == int(l):\n",
    "                # Unsafe\n",
    "                break\n",
    "            if abs(prev - int(l)) > 3:\n",
    "                # Unsafe\n",
    "                break\n",
    "            if increasing is None:\n",
    "                increasing = True if prev < int(l) else False\n",
    "            if increasing and prev > int(l):\n",
    "                # Unsafe\n",
    "                break\n",
    "            if not increasing and prev < int(l):\n",
    "                # Unsafe\n",
    "                break\n",
    "            prev = int(l)\n",
    "        else:\n",
    "            safe += 1\n",
    "    return safe"
   ]
  },
  {
   "cell_type": "code",
   "execution_count": 51,
   "id": "a4278153-58b0-4703-b310-25727a80bc10",
   "metadata": {},
   "outputs": [],
   "source": [
    "def is_safe(levels: list[int]):\n",
    "    prev = None\n",
    "    increasing = None\n",
    "    for l in levels:\n",
    "        if prev is None:\n",
    "            prev = int(l)\n",
    "            continue\n",
    "        if prev == int(l):\n",
    "            # Unsafe\n",
    "            break\n",
    "        if abs(prev - int(l)) > 3:\n",
    "            # Unsafe\n",
    "            break\n",
    "        if increasing is None:\n",
    "            increasing = True if prev < int(l) else False\n",
    "        if increasing and prev > int(l):\n",
    "            # Unsafe\n",
    "            break\n",
    "        if not increasing and prev < int(l):\n",
    "            # Unsafe\n",
    "            break\n",
    "        prev = int(l)\n",
    "    else:\n",
    "        return True\n",
    "    return False\n",
    "\n",
    "def part2(arr):\n",
    "    safe = 0\n",
    "    for row in arr:\n",
    "        \n",
    "        levels = [int(l) for l in row.split(\" \")]\n",
    "        if is_safe(levels):\n",
    "            safe += 1\n",
    "        else:\n",
    "            # Brute force\n",
    "            for i in range(len(levels)):\n",
    "                if is_safe(levels[0:i] + levels[i+1:]):\n",
    "                    safe += 1\n",
    "                    break\n",
    "                \n",
    "    return safe"
   ]
  },
  {
   "cell_type": "code",
   "execution_count": 52,
   "id": "f193ee46-f43d-4c2a-a51e-afd5cde4a25a",
   "metadata": {},
   "outputs": [
    {
     "name": "stdout",
     "output_type": "stream",
     "text": [
      "402\n",
      "455\n"
     ]
    }
   ],
   "source": [
    "if __name__ == \"__main__\":\n",
    "    file = sys.argv[-1] if sys.argv[-1].endswith(\".txt\") else \"input.txt\"\n",
    "    with open(file, \"r\") as f:\n",
    "        arr = f.read().splitlines()\n",
    "\n",
    "        print(part1(arr))\n",
    "        print(part2(arr))"
   ]
  }
 ],
 "metadata": {
  "kernelspec": {
   "display_name": ".venv",
   "language": "python",
   "name": "python3"
  },
  "language_info": {
   "codemirror_mode": {
    "name": "ipython",
    "version": 3
   },
   "file_extension": ".py",
   "mimetype": "text/x-python",
   "name": "python",
   "nbconvert_exporter": "python",
   "pygments_lexer": "ipython3",
   "version": "3.9.16"
  }
 },
 "nbformat": 4,
 "nbformat_minor": 5
}
