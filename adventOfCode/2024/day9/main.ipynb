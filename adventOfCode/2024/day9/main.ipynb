{
 "cells": [
  {
   "cell_type": "code",
   "execution_count": 1,
   "id": "908ee2f8-6946-4e53-9504-61afa88fae82",
   "metadata": {},
   "outputs": [],
   "source": [
    "import sys\n",
    "import numpy as np\n",
    "import math\n",
    "import operator\n",
    "import functools\n",
    "import json\n",
    "from pprint import pprint\n",
    "from tqdm.notebook import tqdm, trange\n",
    "from collections import defaultdict"
   ]
  },
  {
   "cell_type": "code",
   "execution_count": null,
   "id": "d84bc203-0311-4bf4-a9c9-f27ab411c8c9",
   "metadata": {},
   "outputs": [],
   "source": [
    "def part1(arr: list[str]):\n",
    "    arr = [int(a) for a in arr[0]]\n",
    "    id = 0\n",
    "    disk = \"\"\n",
    "    free = False\n",
    "    for i in range(len(arr)):\n",
    "        if free:\n",
    "            disk += \".\" * arr[i]\n",
    "        else:\n",
    "            disk += chr(id+57) * arr[i]\n",
    "            id += 1\n",
    "        free = not free\n",
    "    # print(disk)\n",
    "    disk = [_ for _ in disk]\n",
    "    \n",
    "    l, r = 0, len(disk) - 1\n",
    "    total = 0\n",
    "    while l <= r:\n",
    "        while disk[r] == \".\":\n",
    "            r -= 1\n",
    "        \n",
    "        if disk[l] != \".\":\n",
    "            # print(f\"{l} * {disk[l]} = {int(disk[l]) * l}\")\n",
    "            total += (ord(disk[l])-57) * l\n",
    "            l += 1\n",
    "        else:\n",
    "            # print(f\"{l} * {disk[r]} = {int(disk[r]) * l}\")\n",
    "            total += (ord(disk[r])-57) * l\n",
    "            disk[l] = disk[r]\n",
    "            disk[r] = \".\"\n",
    "            l += 1\n",
    "            r -= 1\n",
    "    return total\n"
   ]
  },
  {
   "cell_type": "code",
   "execution_count": 275,
   "id": "a4278153-58b0-4703-b310-25727a80bc10",
   "metadata": {},
   "outputs": [],
   "source": [
    "def part2(arr: list[str]):\n",
    "    arr = [int(a) for a in arr[0]]    \n",
    "    disk = []\n",
    "    id = 0\n",
    "    i = 0\n",
    "    for a in range(len(arr)):\n",
    "        if a % 2 == 0:\n",
    "            # id, start, end\n",
    "            disk.append((id, i, i+arr[a]))\n",
    "            id += 1\n",
    "        i += arr[a]\n",
    "    # print(\"orig\", disk)\n",
    "    \n",
    "    i = len(disk) - 1\n",
    "    while i > 0:\n",
    "        id, start, end = disk[i]\n",
    "        size = end - start\n",
    "        for j in range(i):\n",
    "            if disk[j+1][1] - disk[j][2] >= size:\n",
    "                disk.pop(i)\n",
    "                disk.insert(j+1, (id, disk[j][2], disk[j][2]+size))\n",
    "                i += 1\n",
    "                break\n",
    "        i -= 1\n",
    "                \n",
    "    # print(\"final\", disk)\n",
    "    \n",
    "    d_str = [\".\"] * disk[-1][2]\n",
    "    total = 0\n",
    "    for i in range(len(disk)):\n",
    "        id, s, e = disk[i]\n",
    "        size = e-s\n",
    "        for j in range(s, e):\n",
    "            total += j*id\n",
    "        d_str[s:e] = [str(id)] * size\n",
    "    # print(\"\".join(d_str))\n",
    "    # disk.sort(key=lambda x: -x[0])\n",
    "    # print(disk)\n",
    "    \n",
    "    return total"
   ]
  },
  {
   "cell_type": "code",
   "execution_count": 276,
   "id": "f193ee46-f43d-4c2a-a51e-afd5cde4a25a",
   "metadata": {},
   "outputs": [
    {
     "name": "stdout",
     "output_type": "stream",
     "text": [
      "6346871685398\n",
      "6373055193464\n"
     ]
    }
   ],
   "source": [
    "if __name__ == \"__main__\":\n",
    "    file = sys.argv[-1] if sys.argv[-1].endswith(\".txt\") else \"input.txt\"\n",
    "    with open(file, \"r\") as f:\n",
    "        arr = f.read().splitlines()\n",
    "\n",
    "        print(part1(arr))\n",
    "        print(part2(arr))"
   ]
  },
  {
   "cell_type": "code",
   "execution_count": null,
   "id": "465e5b18",
   "metadata": {},
   "outputs": [],
   "source": []
  }
 ],
 "metadata": {
  "kernelspec": {
   "display_name": ".venv",
   "language": "python",
   "name": "python3"
  },
  "language_info": {
   "codemirror_mode": {
    "name": "ipython",
    "version": 3
   },
   "file_extension": ".py",
   "mimetype": "text/x-python",
   "name": "python",
   "nbconvert_exporter": "python",
   "pygments_lexer": "ipython3",
   "version": "3.9.16"
  }
 },
 "nbformat": 4,
 "nbformat_minor": 5
}
