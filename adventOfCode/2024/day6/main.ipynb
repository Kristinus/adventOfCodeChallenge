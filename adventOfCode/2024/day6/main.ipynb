{
 "cells": [
  {
   "cell_type": "code",
   "execution_count": 1,
   "id": "908ee2f8-6946-4e53-9504-61afa88fae82",
   "metadata": {},
   "outputs": [],
   "source": [
    "import sys\n",
    "import numpy as np\n",
    "import math\n",
    "import operator\n",
    "import functools\n",
    "import json\n",
    "from pprint import pprint\n",
    "from tqdm.notebook import tqdm, trange\n",
    "from collections import defaultdict"
   ]
  },
  {
   "cell_type": "code",
   "execution_count": 80,
   "id": "d84bc203-0311-4bf4-a9c9-f27ab411c8c9",
   "metadata": {},
   "outputs": [],
   "source": [
    "from pprint import pprint\n",
    "\n",
    "def part1(arr: list[str]):\n",
    "    arr = [list(a) for a in arr]\n",
    "    guard_loc = (0,0)\n",
    "    for x, a in enumerate(arr):\n",
    "        for y, b in enumerate(a):\n",
    "            if b == \"^\":\n",
    "                guard_loc = (x,y)\n",
    "                break\n",
    "            \n",
    "    \n",
    "    rots = [(-1, 0), (0, 1), (1, 0), (0, -1)]\n",
    "    seen = set()\n",
    "    facing = 0\n",
    "    while True:\n",
    "        seen.add(guard_loc)\n",
    "        arr[guard_loc[0]][guard_loc[1]] = \"X\"\n",
    "        next_loc = (guard_loc[0] + rots[facing % 4][0], guard_loc[1] + rots[facing % 4][1])\n",
    "        \n",
    "        if next_loc[0] < 0 or next_loc[0] >= len(arr) or next_loc[1] < 0 or next_loc[1] >= len(arr[0]):\n",
    "            break\n",
    "        if arr[next_loc[0]][next_loc[1]] == \"#\":\n",
    "            facing += 1\n",
    "        guard_loc = (guard_loc[0] + rots[facing % 4][0], guard_loc[1] + rots[facing % 4][1])\n",
    "    \n",
    "    return len(seen)"
   ]
  },
  {
   "cell_type": "code",
   "execution_count": 130,
   "id": "a4278153-58b0-4703-b310-25727a80bc10",
   "metadata": {},
   "outputs": [],
   "source": [
    "def part2(arr: list[str]):\n",
    "    arr = [list(a) for a in arr]\n",
    "    guard_loc = (0,0)\n",
    "    for x, a in enumerate(arr):\n",
    "        for y, b in enumerate(a):\n",
    "            if b == \"^\":\n",
    "                guard_loc = (x,y)\n",
    "                break\n",
    "    start_loc = guard_loc\n",
    "    rots = [(-1, 0), (0, 1), (1, 0), (0, -1)]\n",
    "    seen = []\n",
    "    facing = 0\n",
    "    while True:\n",
    "        if guard_loc not in seen:\n",
    "            seen.append(guard_loc)\n",
    "        # arr[guard_loc[0]][guard_loc[1]] = \"X\"\n",
    "        next_loc = (guard_loc[0] + rots[facing % 4][0], guard_loc[1] + rots[facing % 4][1])\n",
    "        \n",
    "        if next_loc[0] < 0 or next_loc[0] >= len(arr) or next_loc[1] < 0 or next_loc[1] >= len(arr[0]):\n",
    "            break\n",
    "        if arr[next_loc[0]][next_loc[1]] == \"#\":\n",
    "            facing += 1\n",
    "        guard_loc = (guard_loc[0] + rots[facing % 4][0], guard_loc[1] + rots[facing % 4][1])\n",
    "    \n",
    "    loops = 0\n",
    "    for test_x, test_y in seen[1:]:\n",
    "        \n",
    "        arr[test_x][test_y] = \"O\"\n",
    "        \n",
    "        loop = set()\n",
    "        \n",
    "        guard_loc = start_loc\n",
    "        facing = 0\n",
    "        \n",
    "        while True:\n",
    "            # arr[guard_loc[0]][guard_loc[1]] = \"X\"\n",
    "            next_loc = (guard_loc[0] + rots[facing % 4][0], guard_loc[1] + rots[facing % 4][1])\n",
    "            \n",
    "            if next_loc[0] < 0 or next_loc[0] >= len(arr) or next_loc[1] < 0 or next_loc[1] >= len(arr[0]):\n",
    "                break\n",
    "            key = (guard_loc, facing)\n",
    "            if key in loop:\n",
    "                loops += 1\n",
    "                # print(\"is loop\")\n",
    "                # print(f\"testing {test_x}, {test_y}\")\n",
    "                # pprint(arr)\n",
    "                break\n",
    "            if arr[next_loc[0]][next_loc[1]] in (\"#\", \"O\"):\n",
    "                facing = (facing + 1) % 4\n",
    "            loop.add(key)\n",
    "            guard_loc = (guard_loc[0] + rots[facing % 4][0], guard_loc[1] + rots[facing % 4][1])\n",
    "\n",
    "        arr[test_x][test_y] = \".\"\n",
    "    return loops"
   ]
  },
  {
   "cell_type": "code",
   "execution_count": 132,
   "id": "f193ee46-f43d-4c2a-a51e-afd5cde4a25a",
   "metadata": {},
   "outputs": [
    {
     "name": "stdout",
     "output_type": "stream",
     "text": [
      "4967\n",
      "1784\n"
     ]
    }
   ],
   "source": [
    "if __name__ == \"__main__\":\n",
    "    file = sys.argv[-1] if sys.argv[-1].endswith(\".txt\") else \"input.txt\"\n",
    "    with open(file, \"r\") as f:\n",
    "        arr = f.read().splitlines()\n",
    "\n",
    "        print(part1(arr))\n",
    "        print(part2(arr))"
   ]
  },
  {
   "cell_type": "code",
   "execution_count": null,
   "id": "3cfc077d",
   "metadata": {},
   "outputs": [],
   "source": []
  }
 ],
 "metadata": {
  "kernelspec": {
   "display_name": ".venv",
   "language": "python",
   "name": "python3"
  },
  "language_info": {
   "codemirror_mode": {
    "name": "ipython",
    "version": 3
   },
   "file_extension": ".py",
   "mimetype": "text/x-python",
   "name": "python",
   "nbconvert_exporter": "python",
   "pygments_lexer": "ipython3",
   "version": "3.9.16"
  }
 },
 "nbformat": 4,
 "nbformat_minor": 5
}
