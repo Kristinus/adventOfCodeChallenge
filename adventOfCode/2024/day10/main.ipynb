{
 "cells": [
  {
   "cell_type": "code",
   "execution_count": 1,
   "id": "908ee2f8-6946-4e53-9504-61afa88fae82",
   "metadata": {},
   "outputs": [],
   "source": [
    "import sys\n",
    "import numpy as np\n",
    "import math\n",
    "import operator\n",
    "import functools\n",
    "import json\n",
    "from pprint import pprint\n",
    "from tqdm.notebook import tqdm, trange\n",
    "from collections import defaultdict"
   ]
  },
  {
   "cell_type": "code",
   "execution_count": 84,
   "id": "d84bc203-0311-4bf4-a9c9-f27ab411c8c9",
   "metadata": {},
   "outputs": [],
   "source": [
    "def dict_print(arr, len_x, len_y):\n",
    "    for x in range(len_x):\n",
    "        print([arr[x,y] for y in range(len_y)])\n",
    "\n",
    "def get_trails(grid: dict[tuple[int, int]], start: tuple) -> set[tuple]:\n",
    "    if grid[start] == 9:\n",
    "        # print(start, \"is end\")\n",
    "        return set([start])\n",
    "    end = set()\n",
    "    for x, y in [(-1, 0), (1, 0), (0, -1), (0, 1)]:\n",
    "        next = (start[0] + x, start[1] + y)\n",
    "        if grid.get(next) == grid[start] + 1:\n",
    "            # print(next, grid[next], \"is next\")\n",
    "            end.update(get_trails(grid, next))\n",
    "    # print(\"returning\", end)\n",
    "    return end\n",
    "\n",
    "def part1(arr: list[str]):\n",
    "    len_x, len_y = len(arr), len(arr[0])\n",
    "    grid = {(x,y): int(v) for x, a in enumerate(arr) for y, v in enumerate(a)}\n",
    "    \n",
    "    total = 0\n",
    "    for loc, v in grid.items():\n",
    "        if v == 0:\n",
    "            ends = get_trails(grid, loc)\n",
    "            total += len(ends)\n",
    "\n",
    "    return total"
   ]
  },
  {
   "cell_type": "code",
   "execution_count": 99,
   "id": "a4278153-58b0-4703-b310-25727a80bc10",
   "metadata": {},
   "outputs": [],
   "source": [
    "def get_paths(grid: dict[tuple[int, int]], start: tuple) -> int:\n",
    "    if grid[start] == 9:\n",
    "        return 1\n",
    "    total = 0\n",
    "    for x, y in [(-1, 0), (1, 0), (0, -1), (0, 1)]:\n",
    "        next = (start[0] + x, start[1] + y)\n",
    "        if grid.get(next) == grid[start] + 1:\n",
    "            total += get_paths(grid, next)\n",
    "    return total\n",
    "\n",
    "def part2(arr: list[str]):\n",
    "    returnlen_x, len_y = len(arr), len(arr[0])\n",
    "    grid = {(x,y): int(v) for x, a in enumerate(arr) for y, v in enumerate(a)}\n",
    "    \n",
    "    total = 0\n",
    "    for loc, v in grid.items():\n",
    "        if v == 0:\n",
    "            paths = get_paths(grid, loc)\n",
    "            # print(loc, paths)\n",
    "            total += paths\n",
    "    return total"
   ]
  },
  {
   "cell_type": "code",
   "execution_count": 100,
   "id": "f193ee46-f43d-4c2a-a51e-afd5cde4a25a",
   "metadata": {},
   "outputs": [
    {
     "name": "stdout",
     "output_type": "stream",
     "text": [
      "786\n",
      "1722\n"
     ]
    }
   ],
   "source": [
    "if __name__ == \"__main__\":\n",
    "    file = sys.argv[-1] if sys.argv[-1].endswith(\".txt\") else \"input.txt\"\n",
    "    with open(file, \"r\") as f:\n",
    "        arr = f.read().splitlines()\n",
    "\n",
    "        print(part1(arr))\n",
    "        print(part2(arr))"
   ]
  }
 ],
 "metadata": {
  "kernelspec": {
   "display_name": ".venv",
   "language": "python",
   "name": "python3"
  },
  "language_info": {
   "codemirror_mode": {
    "name": "ipython",
    "version": 3
   },
   "file_extension": ".py",
   "mimetype": "text/x-python",
   "name": "python",
   "nbconvert_exporter": "python",
   "pygments_lexer": "ipython3",
   "version": "3.9.16"
  }
 },
 "nbformat": 4,
 "nbformat_minor": 5
}
