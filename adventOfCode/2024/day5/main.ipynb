{
 "cells": [
  {
   "cell_type": "code",
   "execution_count": 1,
   "id": "908ee2f8-6946-4e53-9504-61afa88fae82",
   "metadata": {},
   "outputs": [],
   "source": [
    "import sys\n",
    "import numpy as np\n",
    "import math\n",
    "import operator\n",
    "import functools\n",
    "import json\n",
    "from pprint import pprint\n",
    "from tqdm.notebook import tqdm, trange\n",
    "from collections import defaultdict"
   ]
  },
  {
   "cell_type": "code",
   "execution_count": null,
   "id": "d84bc203-0311-4bf4-a9c9-f27ab411c8c9",
   "metadata": {},
   "outputs": [],
   "source": [
    "def part1(arr: list[str]):\n",
    "    mapping = defaultdict(set)\n",
    "    total = 0\n",
    "    i = 0\n",
    "    while arr[i] != \"\":\n",
    "        x, y = arr[i].split(\"|\")\n",
    "        mapping[x].add(y)\n",
    "        i += 1\n",
    "    i += 1\n",
    "    # print(mapping)\n",
    "    while i < len(arr):\n",
    "        nums = arr[i].split(\",\")\n",
    "        # print(\"nums\", nums)\n",
    "        for j in range(len(nums)):\n",
    "            # print(\"set\", mapping[nums[j]] & set(nums[:j]))\n",
    "            if len(mapping[nums[j]] & set(nums[:j])) > 0:\n",
    "                break\n",
    "        else:\n",
    "            total += int(nums[len(nums)//2])\n",
    "        i += 1    \n",
    "    return total"
   ]
  },
  {
   "cell_type": "code",
   "execution_count": 50,
   "id": "a4278153-58b0-4703-b310-25727a80bc10",
   "metadata": {},
   "outputs": [],
   "source": [
    "def part2(arr: list[str]):\n",
    "    mapping = defaultdict(set)\n",
    "    total = 0\n",
    "    i = 0\n",
    "    while arr[i] != \"\":\n",
    "        x, y = arr[i].split(\"|\")\n",
    "        mapping[x].add(y)\n",
    "        i += 1\n",
    "    i += 1\n",
    "    \n",
    "    while i < len(arr):\n",
    "        nums = arr[i].split(\",\")\n",
    "        correct_order = True\n",
    "        for j in range(len(nums)):\n",
    "            if len(mapping[nums[j]] & set(nums[:j])) > 0:\n",
    "                correct_order = False\n",
    "                break\n",
    "        if correct_order is False:\n",
    "            order = []\n",
    "            j = 0\n",
    "            # print(\"orig\", nums)\n",
    "            while len(nums) > 0:\n",
    "                # print(f\"{order=}, {nums[j+1:]}\")\n",
    "                if set(nums[j+1:]) & mapping[nums[j]] == set(nums[j+1:]):\n",
    "                    order.append(nums.pop(j))\n",
    "                    j = 0\n",
    "                else:\n",
    "                    j += 1\n",
    "                if j >= len(nums):\n",
    "                    j = 0\n",
    "            # print(\"order\", order)\n",
    "            total += int(order[len(order)//2])\n",
    "        \n",
    "            \n",
    "        i += 1    \n",
    "    return total"
   ]
  },
  {
   "cell_type": "code",
   "execution_count": 52,
   "id": "f193ee46-f43d-4c2a-a51e-afd5cde4a25a",
   "metadata": {},
   "outputs": [
    {
     "name": "stdout",
     "output_type": "stream",
     "text": [
      "5275\n",
      "6191\n"
     ]
    }
   ],
   "source": [
    "if __name__ == \"__main__\":\n",
    "    file = sys.argv[-1] if sys.argv[-1].endswith(\".txt\") else \"input.txt\"\n",
    "    with open(file, \"r\") as f:\n",
    "        arr = f.read().splitlines()\n",
    "\n",
    "        print(part1(arr))\n",
    "        print(part2(arr))"
   ]
  },
  {
   "cell_type": "code",
   "execution_count": null,
   "id": "7bbed402",
   "metadata": {},
   "outputs": [],
   "source": []
  },
  {
   "cell_type": "code",
   "execution_count": null,
   "id": "a7d95513",
   "metadata": {},
   "outputs": [],
   "source": []
  }
 ],
 "metadata": {
  "kernelspec": {
   "display_name": ".venv",
   "language": "python",
   "name": "python3"
  },
  "language_info": {
   "codemirror_mode": {
    "name": "ipython",
    "version": 3
   },
   "file_extension": ".py",
   "mimetype": "text/x-python",
   "name": "python",
   "nbconvert_exporter": "python",
   "pygments_lexer": "ipython3",
   "version": "3.9.16"
  }
 },
 "nbformat": 4,
 "nbformat_minor": 5
}
