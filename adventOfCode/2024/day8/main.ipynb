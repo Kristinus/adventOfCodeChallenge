{
 "cells": [
  {
   "cell_type": "code",
   "execution_count": 6,
   "id": "908ee2f8-6946-4e53-9504-61afa88fae82",
   "metadata": {},
   "outputs": [],
   "source": [
    "import sys\n",
    "import numpy as np\n",
    "import math\n",
    "import operator\n",
    "import functools\n",
    "import json\n",
    "from pprint import pprint\n",
    "from tqdm.notebook import tqdm, trange\n",
    "from collections import defaultdict\n",
    "from typing import Any"
   ]
  },
  {
   "cell_type": "code",
   "execution_count": null,
   "id": "d84bc203-0311-4bf4-a9c9-f27ab411c8c9",
   "metadata": {},
   "outputs": [],
   "source": [
    "def point_sub(a: tuple[int, int], b: tuple[int, int]):\n",
    "    return a[0] - b[0], a[1] - b[1]\n",
    "\n",
    "def point_add(a: tuple[int, int], b: tuple[int, int]):\n",
    "    return a[0] + b[0], a[1] + b[1]\n",
    "\n",
    "def within_bound(a: tuple[int, int], grid: list[list[Any]]):\n",
    "    return a[0] >= 0 and a[0] < len(grid) and a[1] >= 0 and a[1] < len(grid[0])\n",
    "\n",
    "def part1(arr: list[str]):\n",
    "    grid = [[b for b in a] for a in arr]\n",
    "    # pprint(grid)\n",
    "    node_locs = defaultdict(list)\n",
    "    for x in range(len(grid)):\n",
    "        for y in range(len(grid[0])):\n",
    "            if grid[x][y] != \".\":\n",
    "                node_locs[grid[x][y]].append((x,y))\n",
    "    \n",
    "    antis = set()\n",
    "    for v, nodes in node_locs.items():\n",
    "        for i in range(len(nodes)):\n",
    "            for j in range(i+1, len(nodes)):\n",
    "                dist = point_sub(nodes[j], nodes[i])\n",
    "                anti = point_sub(nodes[i], dist)\n",
    "                if within_bound(anti, grid) and grid[anti[0]][anti[1]] != v:\n",
    "                    antis.add(anti)\n",
    "                    # if grid[anti[0]][anti[1]] == \".\":\n",
    "                    #     grid[anti[0]][anti[1]] = \"#\"\n",
    "                anti = point_add(nodes[j], dist)\n",
    "                if within_bound(anti, grid) and grid[anti[0]][anti[1]] != v:\n",
    "                    antis.add(anti)\n",
    "                    # if grid[anti[0]][anti[1]] == \".\":\n",
    "                    #     grid[anti[0]][anti[1]] = \"#\"\n",
    "                \n",
    "    # pprint(grid)\n",
    "    # print(antis)\n",
    "    return len(antis)"
   ]
  },
  {
   "cell_type": "code",
   "execution_count": 64,
   "id": "a4278153-58b0-4703-b310-25727a80bc10",
   "metadata": {},
   "outputs": [],
   "source": [
    "def part2(arr: list[str]):\n",
    "    grid = [[b for b in a] for a in arr]\n",
    "    # pprint(grid)\n",
    "    node_locs = defaultdict(list)\n",
    "    for x in range(len(grid)):\n",
    "        for y in range(len(grid[0])):\n",
    "            if grid[x][y] != \".\":\n",
    "                node_locs[grid[x][y]].append((x,y))\n",
    "    \n",
    "    antis = set()\n",
    "    for v, nodes in tqdm(node_locs.items()):\n",
    "        antis = antis.union(set(nodes))\n",
    "        for i in range(len(nodes)):\n",
    "            for j in range(i + 1, len(nodes)):\n",
    "                dist = point_sub(nodes[j], nodes[i])\n",
    "                anti = point_sub(nodes[i], dist)\n",
    "                while within_bound(anti, grid):\n",
    "                    antis.add(anti)\n",
    "                    if grid[anti[0]][anti[1]] == \".\":\n",
    "                        grid[anti[0]][anti[1]] = \"#\"\n",
    "                    anti = point_sub(anti, dist)\n",
    "                anti = point_add(nodes[j], dist)\n",
    "                while within_bound(anti, grid):\n",
    "                    antis.add(anti)\n",
    "                    if grid[anti[0]][anti[1]] == \".\":\n",
    "                        grid[anti[0]][anti[1]] = \"#\"\n",
    "                    anti = point_add(anti, dist)\n",
    "                \n",
    "    # for i in grid:\n",
    "    #     print(\"\".join(i))\n",
    "    # print(antis)\n",
    "    return len(antis)"
   ]
  },
  {
   "cell_type": "code",
   "execution_count": 66,
   "id": "f193ee46-f43d-4c2a-a51e-afd5cde4a25a",
   "metadata": {},
   "outputs": [
    {
     "name": "stdout",
     "output_type": "stream",
     "text": [
      "271\n"
     ]
    },
    {
     "data": {
      "application/vnd.jupyter.widget-view+json": {
       "model_id": "b89b0b3d1a954ab3820f3898f5057f25",
       "version_major": 2,
       "version_minor": 0
      },
      "text/plain": [
       "  0%|          | 0/42 [00:00<?, ?it/s]"
      ]
     },
     "metadata": {},
     "output_type": "display_data"
    },
    {
     "name": "stdout",
     "output_type": "stream",
     "text": [
      "994\n"
     ]
    }
   ],
   "source": [
    "if __name__ == \"__main__\":\n",
    "    file = sys.argv[-1] if sys.argv[-1].endswith(\".txt\") else \"input.txt\"\n",
    "    with open(file, \"r\") as f:\n",
    "        arr = f.read().splitlines()\n",
    "\n",
    "        print(part1(arr))\n",
    "        print(part2(arr))"
   ]
  },
  {
   "cell_type": "code",
   "execution_count": null,
   "id": "f1811fbd-40c1-4ffe-9de6-f52cf50e30c6",
   "metadata": {},
   "outputs": [],
   "source": []
  },
  {
   "cell_type": "code",
   "execution_count": null,
   "id": "4fe7ba0a",
   "metadata": {},
   "outputs": [],
   "source": []
  }
 ],
 "metadata": {
  "kernelspec": {
   "display_name": ".venv",
   "language": "python",
   "name": "python3"
  },
  "language_info": {
   "codemirror_mode": {
    "name": "ipython",
    "version": 3
   },
   "file_extension": ".py",
   "mimetype": "text/x-python",
   "name": "python",
   "nbconvert_exporter": "python",
   "pygments_lexer": "ipython3",
   "version": "3.9.16"
  }
 },
 "nbformat": 4,
 "nbformat_minor": 5
}
