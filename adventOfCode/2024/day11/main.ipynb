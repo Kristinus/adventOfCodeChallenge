{
 "cells": [
  {
   "cell_type": "code",
   "execution_count": 1,
   "id": "908ee2f8-6946-4e53-9504-61afa88fae82",
   "metadata": {},
   "outputs": [],
   "source": [
    "import sys\n",
    "import numpy as np\n",
    "import math\n",
    "import operator\n",
    "import functools\n",
    "import json\n",
    "from pprint import pprint\n",
    "from tqdm.notebook import tqdm, trange\n",
    "from collections import defaultdict"
   ]
  },
  {
   "cell_type": "code",
   "execution_count": 2,
   "id": "d84bc203-0311-4bf4-a9c9-f27ab411c8c9",
   "metadata": {},
   "outputs": [],
   "source": [
    "def part1(arr: list[int]):\n",
    "    for i in range(25):\n",
    "        new_arr = []\n",
    "        for v in arr:\n",
    "            v_str = str(v)\n",
    "            if v == 0:\n",
    "                new_arr.append(1)\n",
    "            elif len(v_str) % 2 == 0:\n",
    "                h = len(v_str) // 2\n",
    "                new_arr.append(int(v_str[:h]))\n",
    "                new_arr.append(int(v_str[h:]))\n",
    "            else:\n",
    "                new_arr.append(v * 2024)\n",
    "        arr = new_arr\n",
    "    return len(new_arr)"
   ]
  },
  {
   "cell_type": "code",
   "execution_count": 10,
   "id": "a4278153-58b0-4703-b310-25727a80bc10",
   "metadata": {},
   "outputs": [],
   "source": [
    "def part2(arr: list[int]):\n",
    "    counter = defaultdict(int)\n",
    "    for i in arr:\n",
    "        counter[i] += 1\n",
    "    for i in tqdm(range(75)):\n",
    "        new_counter = defaultdict(int)\n",
    "        for i, count in counter.items():\n",
    "            i_str = str(i)\n",
    "            if count == 0:\n",
    "                continue\n",
    "            elif i == 0:\n",
    "                new_counter[1] += count\n",
    "            elif len(i_str) % 2 == 0:\n",
    "                h = len(i_str) // 2\n",
    "                new_counter[int(i_str[:h])] += count\n",
    "                new_counter[int(i_str[h:])] += count\n",
    "            else:\n",
    "                new_counter[i*2024] += count\n",
    "        counter = new_counter.copy()\n",
    "    return sum(counter.values())"
   ]
  },
  {
   "cell_type": "code",
   "execution_count": 12,
   "id": "f193ee46-f43d-4c2a-a51e-afd5cde4a25a",
   "metadata": {},
   "outputs": [
    {
     "name": "stdout",
     "output_type": "stream",
     "text": [
      "193269\n"
     ]
    },
    {
     "data": {
      "application/vnd.jupyter.widget-view+json": {
       "model_id": "5c0080f143ca441d8dc87df8165fd4ec",
       "version_major": 2,
       "version_minor": 0
      },
      "text/plain": [
       "  0%|          | 0/75 [00:00<?, ?it/s]"
      ]
     },
     "metadata": {},
     "output_type": "display_data"
    },
    {
     "name": "stdout",
     "output_type": "stream",
     "text": [
      "228449040027793\n"
     ]
    }
   ],
   "source": [
    "if __name__ == \"__main__\":\n",
    "    file = sys.argv[-1] if sys.argv[-1].endswith(\".txt\") else \"input.txt\"\n",
    "    with open(file, \"r\") as f:\n",
    "        arr = [int(a) for a in f.read().splitlines()[0].split(\" \")]\n",
    "\n",
    "        print(part1(arr))\n",
    "        print(part2(arr))"
   ]
  },
  {
   "cell_type": "code",
   "execution_count": null,
   "id": "f1811fbd-40c1-4ffe-9de6-f52cf50e30c6",
   "metadata": {},
   "outputs": [],
   "source": []
  }
 ],
 "metadata": {
  "kernelspec": {
   "display_name": ".venv",
   "language": "python",
   "name": "python3"
  },
  "language_info": {
   "codemirror_mode": {
    "name": "ipython",
    "version": 3
   },
   "file_extension": ".py",
   "mimetype": "text/x-python",
   "name": "python",
   "nbconvert_exporter": "python",
   "pygments_lexer": "ipython3",
   "version": "3.9.16"
  }
 },
 "nbformat": 4,
 "nbformat_minor": 5
}
