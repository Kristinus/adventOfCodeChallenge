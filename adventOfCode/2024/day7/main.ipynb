{
 "cells": [
  {
   "cell_type": "code",
   "execution_count": 1,
   "id": "908ee2f8-6946-4e53-9504-61afa88fae82",
   "metadata": {},
   "outputs": [],
   "source": [
    "import sys\n",
    "import numpy as np\n",
    "import math\n",
    "import operator\n",
    "import functools\n",
    "import json\n",
    "from pprint import pprint\n",
    "from tqdm.notebook import tqdm, trange\n",
    "from collections import defaultdict"
   ]
  },
  {
   "cell_type": "code",
   "execution_count": null,
   "id": "d84bc203-0311-4bf4-a9c9-f27ab411c8c9",
   "metadata": {},
   "outputs": [],
   "source": [
    "def part1(arr: list[str]):\n",
    "    total = 0\n",
    "    for i in arr:\n",
    "        value, a = i.split(\":\")\n",
    "        value = int(value)\n",
    "        nums = [int(b) for b in a.strip().split(\" \")]\n",
    "        \n",
    "        op = (\"+\",\"*\")\n",
    "        index = 0\n",
    "        # print(nums, 2**(len(nums)-1) - 1)\n",
    "        \n",
    "        while index <= 2**(len(nums)-1) - 1:\n",
    "            eq_op = [op[int(_)] for _ in f\"{index:b}\".zfill(len(nums) - 1)]\n",
    "            \n",
    "            _total = nums[0]\n",
    "            # print(index, eq_op)\n",
    "            for i in range(len(eq_op)):\n",
    "                if eq_op[i] == \"+\":\n",
    "                    _total += nums[i+1]\n",
    "                else:\n",
    "                    _total = _total * nums[i+1]\n",
    "                \n",
    "            # print(index, _total, value)\n",
    "            if _total == value:\n",
    "                # print(\"matching\")\n",
    "                total += value\n",
    "                break\n",
    "            else:\n",
    "                index += 1\n",
    "        # print()\n",
    "    return total"
   ]
  },
  {
   "cell_type": "code",
   "execution_count": 102,
   "id": "a4278153-58b0-4703-b310-25727a80bc10",
   "metadata": {},
   "outputs": [],
   "source": [
    "def part2(arr: list[str]):\n",
    "    total = 0\n",
    "    for i in tqdm(arr):\n",
    "        value, a = i.split(\":\")\n",
    "        value = int(value)\n",
    "        nums = [int(b) for b in a.strip().split(\" \")]\n",
    "        \n",
    "        op = (\"+\",\"*\", \"||\")\n",
    "        index = 0\n",
    "        # print(nums, 2**(len(nums)-1) - 1)\n",
    "        \n",
    "        while index <= len(op)**(len(nums)-1) - 1:\n",
    "            eq_op = [op[int(_)] for _ in np.base_repr(index,base=3).zfill(len(nums) - 1)]\n",
    "            \n",
    "            _total = nums[0]\n",
    "            # print(index, eq_op)\n",
    "            for i in range(len(eq_op)):\n",
    "                if eq_op[i] == \"+\":\n",
    "                    _total += nums[i+1]\n",
    "                elif eq_op[i] == \"*\":\n",
    "                    _total = _total * nums[i+1]\n",
    "                else:\n",
    "                    _total = int(str(_total) + str(nums[i+1]))\n",
    "                \n",
    "            # print(index, _total, value)\n",
    "            if _total == value:\n",
    "                # print(\"matching\")\n",
    "                total += value\n",
    "                break\n",
    "            else:\n",
    "                index += 1\n",
    "        # print()\n",
    "    return total"
   ]
  },
  {
   "cell_type": "code",
   "execution_count": 103,
   "id": "f193ee46-f43d-4c2a-a51e-afd5cde4a25a",
   "metadata": {},
   "outputs": [
    {
     "name": "stdout",
     "output_type": "stream",
     "text": [
      "1399219271639\n"
     ]
    },
    {
     "data": {
      "application/vnd.jupyter.widget-view+json": {
       "model_id": "df349fde6d6f459d90acf9463d2b496d",
       "version_major": 2,
       "version_minor": 0
      },
      "text/plain": [
       "  0%|          | 0/850 [00:00<?, ?it/s]"
      ]
     },
     "metadata": {},
     "output_type": "display_data"
    },
    {
     "name": "stdout",
     "output_type": "stream",
     "text": [
      "275791737999003\n"
     ]
    }
   ],
   "source": [
    "if __name__ == \"__main__\":\n",
    "    file = sys.argv[-1] if sys.argv[-1].endswith(\".txt\") else \"input.txt\"\n",
    "    with open(file, \"r\") as f:\n",
    "        arr = f.read().splitlines()\n",
    "\n",
    "        print(part1(arr))\n",
    "        print(part2(arr))"
   ]
  },
  {
   "cell_type": "code",
   "execution_count": null,
   "id": "bc2169ff",
   "metadata": {},
   "outputs": [],
   "source": []
  },
  {
   "cell_type": "code",
   "execution_count": null,
   "id": "8e4efb9e",
   "metadata": {},
   "outputs": [],
   "source": []
  }
 ],
 "metadata": {
  "kernelspec": {
   "display_name": ".venv",
   "language": "python",
   "name": "python3"
  },
  "language_info": {
   "codemirror_mode": {
    "name": "ipython",
    "version": 3
   },
   "file_extension": ".py",
   "mimetype": "text/x-python",
   "name": "python",
   "nbconvert_exporter": "python",
   "pygments_lexer": "ipython3",
   "version": "3.9.16"
  }
 },
 "nbformat": 4,
 "nbformat_minor": 5
}
