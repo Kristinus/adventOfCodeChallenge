{
 "cells": [
  {
   "cell_type": "code",
   "execution_count": 27,
   "id": "ac3c753e-1666-4a82-abd0-0d8e6dc22c3f",
   "metadata": {},
   "outputs": [
    {
     "name": "stdout",
     "output_type": "stream",
     "text": [
      "Requirement already satisfied: matplotlib in /Users/bryankristiono/personal/adventOfCode2021/.venv/lib/python3.9/site-packages (3.5.0)\n",
      "Requirement already satisfied: python-dateutil>=2.7 in /Users/bryankristiono/personal/adventOfCode2021/.venv/lib/python3.9/site-packages (from matplotlib) (2.8.2)\n",
      "Requirement already satisfied: fonttools>=4.22.0 in /Users/bryankristiono/personal/adventOfCode2021/.venv/lib/python3.9/site-packages (from matplotlib) (4.28.3)\n",
      "Requirement already satisfied: cycler>=0.10 in /Users/bryankristiono/personal/adventOfCode2021/.venv/lib/python3.9/site-packages (from matplotlib) (0.11.0)\n",
      "Requirement already satisfied: packaging>=20.0 in /Users/bryankristiono/personal/adventOfCode2021/.venv/lib/python3.9/site-packages (from matplotlib) (21.3)\n",
      "Requirement already satisfied: numpy>=1.17 in /Users/bryankristiono/personal/adventOfCode2021/.venv/lib/python3.9/site-packages (from matplotlib) (1.21.4)\n",
      "Requirement already satisfied: pyparsing>=2.2.1 in /Users/bryankristiono/personal/adventOfCode2021/.venv/lib/python3.9/site-packages (from matplotlib) (3.0.6)\n",
      "Requirement already satisfied: pillow>=6.2.0 in /Users/bryankristiono/personal/adventOfCode2021/.venv/lib/python3.9/site-packages (from matplotlib) (8.4.0)\n",
      "Requirement already satisfied: setuptools-scm>=4 in /Users/bryankristiono/personal/adventOfCode2021/.venv/lib/python3.9/site-packages (from matplotlib) (6.3.2)\n",
      "Requirement already satisfied: kiwisolver>=1.0.1 in /Users/bryankristiono/personal/adventOfCode2021/.venv/lib/python3.9/site-packages (from matplotlib) (1.3.2)\n",
      "Requirement already satisfied: six>=1.5 in /Users/bryankristiono/personal/adventOfCode2021/.venv/lib/python3.9/site-packages (from python-dateutil>=2.7->matplotlib) (1.16.0)\n",
      "Requirement already satisfied: tomli>=1.0.0 in /Users/bryankristiono/personal/adventOfCode2021/.venv/lib/python3.9/site-packages (from setuptools-scm>=4->matplotlib) (1.2.2)\n",
      "Requirement already satisfied: setuptools in /Users/bryankristiono/personal/adventOfCode2021/.venv/lib/python3.9/site-packages (from setuptools-scm>=4->matplotlib) (58.1.0)\n",
      "\u001b[33mWARNING: You are using pip version 21.2.4; however, version 21.3.1 is available.\n",
      "You should consider upgrading via the '/Users/bryankristiono/personal/adventOfCode2021/.venv/bin/python -m pip install --upgrade pip' command.\u001b[0m\n",
      "Note: you may need to restart the kernel to use updated packages.\n"
     ]
    }
   ],
   "source": [
    "import numpy as np\n",
    "import requests\n",
    "import re\n",
    "import pprint\n",
    "%pip install matplotlib\n",
    "import matplotlib"
   ]
  },
  {
   "cell_type": "code",
   "execution_count": 16,
   "id": "7067a818-9f6a-45bf-8666-b9515457837c",
   "metadata": {},
   "outputs": [
    {
     "name": "stdout",
     "output_type": "stream",
     "text": [
      "{'owner_id': '452702', 'members': {'1675338': {'stars': 16, 'id': '1675338', 'global_score': 0, 'local_score': 50, 'name': 'yifanl1', 'completion_day_level': {'6': {'2': {'get_star_ts': 1638767759}, '1': {'get_star_ts': 1638767707}}, '8': {'1': {'get_star_ts': 1638940026}, '2': {'get_star_ts': 1638942010}}, '5': {'1': {'get_star_ts': 1638713854}, '2': {'get_star_ts': 1638714108}}, '2': {'1': {'get_star_ts': 1638456957}, '2': {'get_star_ts': 1638457071}}, '7': {'1': {'get_star_ts': 1638864045}, '2': {'get_star_ts': 1638864639}}, '1': {'2': {'get_star_ts': 1638393418}, '1': {'get_star_ts': 1638393000}}, '4': {'2': {'get_star_ts': 1638631362}, '1': {'get_star_ts': 1638631306}}, '3': {'2': {'get_star_ts': 1638542940}, '1': {'get_star_ts': 1638541621}}}, 'last_star_ts': 1638942010}, '1676761': {'global_score': 0, 'id': '1676761', 'stars': 16, 'last_star_ts': 1638943515, 'completion_day_level': {'6': {'1': {'get_star_ts': 1638770139}, '2': {'get_star_ts': 1638802902}}, '8': {'2': {'get_star_ts': 1638943515}, '1': {'get_star_ts': 1638941179}}, '5': {'2': {'get_star_ts': 1638685545}, '1': {'get_star_ts': 1638683911}}, '2': {'1': {'get_star_ts': 1638458901}, '2': {'get_star_ts': 1638459046}}, '1': {'1': {'get_star_ts': 1638393966}, '2': {'get_star_ts': 1638394991}}, '7': {'1': {'get_star_ts': 1638853796}, '2': {'get_star_ts': 1638854982}}, '4': {'2': {'get_star_ts': 1638607067}, '1': {'get_star_ts': 1638605626}}, '3': {'2': {'get_star_ts': 1638569519}, '1': {'get_star_ts': 1638568183}}}, 'name': 'Kristinus', 'local_score': 41}, '452702': {'local_score': 6, 'name': 'Mark Oosterveld', 'last_star_ts': 1638393614, 'completion_day_level': {'1': {'2': {'get_star_ts': 1638393614}, '1': {'get_star_ts': 1638392924}}}, 'stars': 2, 'id': '452702', 'global_score': 0}, '1676223': {'local_score': 49, 'last_star_ts': 1638945362, 'completion_day_level': {'6': {'1': {'get_star_ts': 1638769794}, '2': {'get_star_ts': 1638769847}}, '1': {'1': {'get_star_ts': 1638393252}, '2': {'get_star_ts': 1638393421}}, '7': {'1': {'get_star_ts': 1638854531}, '2': {'get_star_ts': 1638855148}}, '8': {'2': {'get_star_ts': 1638945362}, '1': {'get_star_ts': 1638945144}}, '5': {'1': {'get_star_ts': 1638684256}, '2': {'get_star_ts': 1638685028}}, '2': {'2': {'get_star_ts': 1638457692}, '1': {'get_star_ts': 1638456703}}, '4': {'2': {'get_star_ts': 1638601311}, '1': {'get_star_ts': 1638600384}}, '3': {'2': {'get_star_ts': 1638546146}, '1': {'get_star_ts': 1638543826}}}, 'name': None, 'global_score': 0, 'stars': 16, 'id': '1676223'}}, 'event': '2021'}\n"
     ]
    }
   ],
   "source": [
    "with open(\"../.cookie.txt\") as f:\n",
    "    line = f.read().split(\":\")\n",
    "    headers = {line[0]: line[1].strip()}\n",
    "    resp = requests.get(\"https://adventofcode.com/2021/leaderboard/private/view/452702.json\", headers=headers)\n",
    "    print(resp.json())"
   ]
  },
  {
   "cell_type": "code",
   "execution_count": 62,
   "id": "d876d149-cbb8-492e-8b73-9dac035c4167",
   "metadata": {},
   "outputs": [
    {
     "name": "stdout",
     "output_type": "stream",
     "text": [
      "[{'1': {'get_star_ts': 1638393000}, '2': {'get_star_ts': 1638393418}},\n",
      " {'1': {'get_star_ts': 1638456957}, '2': {'get_star_ts': 1638457071}},\n",
      " {'1': {'get_star_ts': 1638541621}, '2': {'get_star_ts': 1638542940}},\n",
      " {'1': {'get_star_ts': 1638631306}, '2': {'get_star_ts': 1638631362}},\n",
      " {'1': {'get_star_ts': 1638713854}, '2': {'get_star_ts': 1638714108}},\n",
      " {'1': {'get_star_ts': 1638767707}, '2': {'get_star_ts': 1638767759}},\n",
      " {'1': {'get_star_ts': 1638864045}, '2': {'get_star_ts': 1638864639}},\n",
      " {'1': {'get_star_ts': 1638940026}, '2': {'get_star_ts': 1638942010}},\n",
      " 0,\n",
      " 0,\n",
      " 0,\n",
      " 0,\n",
      " 0,\n",
      " 0,\n",
      " 0,\n",
      " 0,\n",
      " 0,\n",
      " 0,\n",
      " 0,\n",
      " 0,\n",
      " 0,\n",
      " 0,\n",
      " 0,\n",
      " 0,\n",
      " 0]\n"
     ]
    },
    {
     "ename": "TypeError",
     "evalue": "'int' object is not subscriptable",
     "output_type": "error",
     "traceback": [
      "\u001b[0;31m---------------------------------------------------------------------------\u001b[0m",
      "\u001b[0;31mTypeError\u001b[0m                                 Traceback (most recent call last)",
      "\u001b[0;32m/var/folders/63/p10v20jd37df2dqqlxx29ky00000gn/T/ipykernel_75993/1691218199.py\u001b[0m in \u001b[0;36m<module>\u001b[0;34m\u001b[0m\n\u001b[1;32m      7\u001b[0m     \u001b[0mtime_list\u001b[0m \u001b[0;34m=\u001b[0m \u001b[0;34m[\u001b[0m\u001b[0mtime_dict\u001b[0m\u001b[0;34m[\u001b[0m\u001b[0mstr\u001b[0m\u001b[0;34m(\u001b[0m\u001b[0mday\u001b[0m\u001b[0;34m)\u001b[0m\u001b[0;34m]\u001b[0m \u001b[0;32mif\u001b[0m \u001b[0mstr\u001b[0m\u001b[0;34m(\u001b[0m\u001b[0mday\u001b[0m\u001b[0;34m)\u001b[0m \u001b[0;32min\u001b[0m \u001b[0mtime_dict\u001b[0m\u001b[0;34m.\u001b[0m\u001b[0mkeys\u001b[0m\u001b[0;34m(\u001b[0m\u001b[0;34m)\u001b[0m \u001b[0;32melse\u001b[0m \u001b[0;36m0\u001b[0m \u001b[0;32mfor\u001b[0m \u001b[0mday\u001b[0m \u001b[0;32min\u001b[0m \u001b[0mrange\u001b[0m\u001b[0;34m(\u001b[0m\u001b[0;36m1\u001b[0m\u001b[0;34m,\u001b[0m\u001b[0;36m26\u001b[0m\u001b[0;34m)\u001b[0m\u001b[0;34m]\u001b[0m\u001b[0;34m\u001b[0m\u001b[0;34m\u001b[0m\u001b[0m\n\u001b[1;32m      8\u001b[0m     \u001b[0mpprint\u001b[0m\u001b[0;34m.\u001b[0m\u001b[0mpprint\u001b[0m\u001b[0;34m(\u001b[0m\u001b[0mtime_list\u001b[0m\u001b[0;34m)\u001b[0m\u001b[0;34m\u001b[0m\u001b[0;34m\u001b[0m\u001b[0m\n\u001b[0;32m----> 9\u001b[0;31m     \u001b[0mtime_list\u001b[0m \u001b[0;34m=\u001b[0m \u001b[0;34m[\u001b[0m\u001b[0;34m[\u001b[0m\u001b[0mi\u001b[0m\u001b[0;34m[\u001b[0m\u001b[0;34m\"1\"\u001b[0m\u001b[0;34m]\u001b[0m\u001b[0;34m[\u001b[0m\u001b[0;34m\"get_star_ts\"\u001b[0m\u001b[0;34m]\u001b[0m\u001b[0;34m,\u001b[0m\u001b[0mi\u001b[0m\u001b[0;34m[\u001b[0m\u001b[0;34m\"1\"\u001b[0m\u001b[0;34m]\u001b[0m\u001b[0;34m[\u001b[0m\u001b[0;34m\"get_star_ts\"\u001b[0m\u001b[0;34m]\u001b[0m\u001b[0;34m]\u001b[0m \u001b[0;32mfor\u001b[0m \u001b[0mi\u001b[0m \u001b[0;32min\u001b[0m \u001b[0mtime_list\u001b[0m\u001b[0;34m]\u001b[0m\u001b[0;34m\u001b[0m\u001b[0;34m\u001b[0m\u001b[0m\n\u001b[0m\u001b[1;32m     10\u001b[0m     \u001b[0mtime_list\u001b[0m \u001b[0;34m=\u001b[0m \u001b[0mtime_list\u001b[0m\u001b[0;34m.\u001b[0m\u001b[0mflatten\u001b[0m\u001b[0;34m(\u001b[0m\u001b[0;34m)\u001b[0m\u001b[0;34m\u001b[0m\u001b[0;34m\u001b[0m\u001b[0m\n\u001b[1;32m     11\u001b[0m     \u001b[0mpprint\u001b[0m\u001b[0;34m.\u001b[0m\u001b[0mpprint\u001b[0m\u001b[0;34m(\u001b[0m\u001b[0mtime_list\u001b[0m\u001b[0;34m)\u001b[0m\u001b[0;34m\u001b[0m\u001b[0;34m\u001b[0m\u001b[0m\n",
      "\u001b[0;32m/var/folders/63/p10v20jd37df2dqqlxx29ky00000gn/T/ipykernel_75993/1691218199.py\u001b[0m in \u001b[0;36m<listcomp>\u001b[0;34m(.0)\u001b[0m\n\u001b[1;32m      7\u001b[0m     \u001b[0mtime_list\u001b[0m \u001b[0;34m=\u001b[0m \u001b[0;34m[\u001b[0m\u001b[0mtime_dict\u001b[0m\u001b[0;34m[\u001b[0m\u001b[0mstr\u001b[0m\u001b[0;34m(\u001b[0m\u001b[0mday\u001b[0m\u001b[0;34m)\u001b[0m\u001b[0;34m]\u001b[0m \u001b[0;32mif\u001b[0m \u001b[0mstr\u001b[0m\u001b[0;34m(\u001b[0m\u001b[0mday\u001b[0m\u001b[0;34m)\u001b[0m \u001b[0;32min\u001b[0m \u001b[0mtime_dict\u001b[0m\u001b[0;34m.\u001b[0m\u001b[0mkeys\u001b[0m\u001b[0;34m(\u001b[0m\u001b[0;34m)\u001b[0m \u001b[0;32melse\u001b[0m \u001b[0;36m0\u001b[0m \u001b[0;32mfor\u001b[0m \u001b[0mday\u001b[0m \u001b[0;32min\u001b[0m \u001b[0mrange\u001b[0m\u001b[0;34m(\u001b[0m\u001b[0;36m1\u001b[0m\u001b[0;34m,\u001b[0m\u001b[0;36m26\u001b[0m\u001b[0;34m)\u001b[0m\u001b[0;34m]\u001b[0m\u001b[0;34m\u001b[0m\u001b[0;34m\u001b[0m\u001b[0m\n\u001b[1;32m      8\u001b[0m     \u001b[0mpprint\u001b[0m\u001b[0;34m.\u001b[0m\u001b[0mpprint\u001b[0m\u001b[0;34m(\u001b[0m\u001b[0mtime_list\u001b[0m\u001b[0;34m)\u001b[0m\u001b[0;34m\u001b[0m\u001b[0;34m\u001b[0m\u001b[0m\n\u001b[0;32m----> 9\u001b[0;31m     \u001b[0mtime_list\u001b[0m \u001b[0;34m=\u001b[0m \u001b[0;34m[\u001b[0m\u001b[0;34m[\u001b[0m\u001b[0mi\u001b[0m\u001b[0;34m[\u001b[0m\u001b[0;34m\"1\"\u001b[0m\u001b[0;34m]\u001b[0m\u001b[0;34m[\u001b[0m\u001b[0;34m\"get_star_ts\"\u001b[0m\u001b[0;34m]\u001b[0m\u001b[0;34m,\u001b[0m\u001b[0mi\u001b[0m\u001b[0;34m[\u001b[0m\u001b[0;34m\"1\"\u001b[0m\u001b[0;34m]\u001b[0m\u001b[0;34m[\u001b[0m\u001b[0;34m\"get_star_ts\"\u001b[0m\u001b[0;34m]\u001b[0m\u001b[0;34m]\u001b[0m \u001b[0;32mfor\u001b[0m \u001b[0mi\u001b[0m \u001b[0;32min\u001b[0m \u001b[0mtime_list\u001b[0m\u001b[0;34m]\u001b[0m\u001b[0;34m\u001b[0m\u001b[0;34m\u001b[0m\u001b[0m\n\u001b[0m\u001b[1;32m     10\u001b[0m     \u001b[0mtime_list\u001b[0m \u001b[0;34m=\u001b[0m \u001b[0mtime_list\u001b[0m\u001b[0;34m.\u001b[0m\u001b[0mflatten\u001b[0m\u001b[0;34m(\u001b[0m\u001b[0;34m)\u001b[0m\u001b[0;34m\u001b[0m\u001b[0;34m\u001b[0m\u001b[0m\n\u001b[1;32m     11\u001b[0m     \u001b[0mpprint\u001b[0m\u001b[0;34m.\u001b[0m\u001b[0mpprint\u001b[0m\u001b[0;34m(\u001b[0m\u001b[0mtime_list\u001b[0m\u001b[0;34m)\u001b[0m\u001b[0;34m\u001b[0m\u001b[0;34m\u001b[0m\u001b[0m\n",
      "\u001b[0;31mTypeError\u001b[0m: 'int' object is not subscriptable"
     ]
    }
   ],
   "source": [
    "members = resp.json()[\"members\"]\n",
    "from collections import OrderedDict\n",
    "for id, value in members.items():\n",
    "    name = value[\"name\"]\n",
    "    stars = value[\"stars\"]\n",
    "    time_dict = OrderedDict(value[\"completion_day_level\"])\n",
    "    time_list = [time_dict[str(day)] if str(day) in time_dict.keys() else 0 for day in range(1,26)]\n",
    "    pprint.pprint(time_list)\n",
    "    time_list = [[i[\"1\"][\"get_star_ts\"],i[\"1\"][\"get_star_ts\"]] for i in time_list]\n",
    "    time_list = time_list.flatten()\n",
    "    pprint.pprint(time_list)\n",
    "\n",
    "import matplotlib.pyplot as plt"
   ]
  },
  {
   "cell_type": "code",
   "execution_count": null,
   "id": "3a22b33a-f445-4de3-b33e-b557934954ac",
   "metadata": {},
   "outputs": [],
   "source": []
  },
  {
   "cell_type": "code",
   "execution_count": null,
   "id": "035d85d8-df53-43b2-84d5-3f9d1048981d",
   "metadata": {},
   "outputs": [],
   "source": []
  }
 ],
 "metadata": {
  "kernelspec": {
   "display_name": "Python 3 (ipykernel)",
   "language": "python",
   "name": "python3"
  },
  "language_info": {
   "codemirror_mode": {
    "name": "ipython",
    "version": 3
   },
   "file_extension": ".py",
   "mimetype": "text/x-python",
   "name": "python",
   "nbconvert_exporter": "python",
   "pygments_lexer": "ipython3",
   "version": "3.9.6"
  }
 },
 "nbformat": 4,
 "nbformat_minor": 5
}
