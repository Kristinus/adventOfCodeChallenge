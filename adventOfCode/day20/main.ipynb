{
 "cells": [
  {
   "cell_type": "code",
   "execution_count": 4,
   "id": "e84d7f24-e180-4ba8-add2-675fcc91f52e",
   "metadata": {},
   "outputs": [],
   "source": [
    "import sys\n",
    "import numpy as np\n",
    "import math\n",
    "import operator\n",
    "import functools\n",
    "import json\n",
    "from pprint import pprint"
   ]
  },
  {
   "cell_type": "code",
   "execution_count": 111,
   "id": "158778ef-a3e4-406e-a184-614ca901d6ab",
   "metadata": {},
   "outputs": [],
   "source": [
    "def get3by3(image, point):\n",
    "    x,y = point\n",
    "    return image[x-1:x+2,y-1:y+2]\n",
    "    \n",
    "def convertImage(image, algo):\n",
    "    output = np.full(image.shape, 0)\n",
    "    for i in range(1, image.shape[0]-1):\n",
    "        for j in range(1,image.shape[1]-1):\n",
    "            inp = get3by3(image, (i,j)).flatten()\n",
    "            index = int(''.join(str(i) for i in inp), 2)\n",
    "            output[i,j] = algo[index]\n",
    "    return output\n",
    "\n",
    "def getLit(image):\n",
    "    return len(np.where(image==1)[0])\n",
    "    \n",
    "def printImage(image):\n",
    "    for row in image:\n",
    "        out = ''\n",
    "        for i in row:\n",
    "            out += '#' if i == 1 else '.'\n",
    "        print(out)"
   ]
  },
  {
   "cell_type": "code",
   "execution_count": 157,
   "id": "d84bc203-0311-4bf4-a9c9-f27ab411c8c9",
   "metadata": {},
   "outputs": [],
   "source": [
    "def part1(arr):\n",
    "    algo = np.array([1 if x == '#' else 0 for x in arr[0]])\n",
    "    inp_img = np.array([[1 if x == '#' else 0 for x in i] for i in arr[2:]])\n",
    "    \n",
    "    out_img = inp_img\n",
    "    out_img = np.pad(out_img, 5, 'constant', constant_values=0)\n",
    "    out_img = convertImage(out_img, algo)\n",
    "    out_img = convertImage(out_img, algo)\n",
    "    out_img = out_img[3:-3,3:-3]\n",
    "    return getLit(out_img)"
   ]
  },
  {
   "cell_type": "code",
   "execution_count": 158,
   "id": "a4278153-58b0-4703-b310-25727a80bc10",
   "metadata": {},
   "outputs": [],
   "source": [
    "def part2(arr):\n",
    "    algo = np.array([1 if x == '#' else 0 for x in arr[0]])\n",
    "    inp_img = np.array([[1 if x == '#' else 0 for x in i] for i in arr[2:]])\n",
    "    \n",
    "    out_img = inp_img\n",
    "    for _ in range(25):\n",
    "        out_img = np.pad(out_img, 5, 'constant', constant_values=0)\n",
    "        out_img = convertImage(out_img, algo)\n",
    "        out_img = convertImage(out_img, algo)\n",
    "        out_img = out_img[3:-3,3:-3]\n",
    "    return getLit(out_img)"
   ]
  },
  {
   "cell_type": "code",
   "execution_count": 159,
   "id": "f193ee46-f43d-4c2a-a51e-afd5cde4a25a",
   "metadata": {},
   "outputs": [
    {
     "name": "stdout",
     "output_type": "stream",
     "text": [
      "5884\n",
      "19043\n"
     ]
    }
   ],
   "source": [
    "if __name__ == \"__main__\":\n",
    "    file = sys.argv[-1] if sys.argv[-1].endswith(\".txt\") else \"input.txt\"\n",
    "    with open(file, \"r\") as f:\n",
    "        arr = f.read().splitlines()\n",
    "\n",
    "        print(part1(arr))\n",
    "        print(part2(arr))"
   ]
  },
  {
   "cell_type": "code",
   "execution_count": null,
   "id": "f1811fbd-40c1-4ffe-9de6-f52cf50e30c6",
   "metadata": {},
   "outputs": [],
   "source": []
  },
  {
   "cell_type": "code",
   "execution_count": null,
   "id": "0cc2ab17-1c85-43de-9c17-3f8dbca70318",
   "metadata": {},
   "outputs": [],
   "source": []
  }
 ],
 "metadata": {
  "kernelspec": {
   "display_name": "Python 3 (ipykernel)",
   "language": "python",
   "name": "python3"
  },
  "language_info": {
   "codemirror_mode": {
    "name": "ipython",
    "version": 3
   },
   "file_extension": ".py",
   "mimetype": "text/x-python",
   "name": "python",
   "nbconvert_exporter": "python",
   "pygments_lexer": "ipython3",
   "version": "3.9.6"
  }
 },
 "nbformat": 4,
 "nbformat_minor": 5
}
