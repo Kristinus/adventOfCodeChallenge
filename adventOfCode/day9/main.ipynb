{
 "cells": [
  {
   "cell_type": "code",
   "execution_count": 4,
   "id": "908ee2f8-6946-4e53-9504-61afa88fae82",
   "metadata": {},
   "outputs": [],
   "source": [
    "import sys\n",
    "import numpy as np"
   ]
  },
  {
   "cell_type": "code",
   "execution_count": 161,
   "id": "d84bc203-0311-4bf4-a9c9-f27ab411c8c9",
   "metadata": {},
   "outputs": [],
   "source": [
    "def part1(arr):\n",
    "    heatmap = np.array([list(i) for i in arr]).astype(float)\n",
    "    rollDown = np.roll(heatmap, 1, axis=0)\n",
    "    rollDown[0,:] = np.inf\n",
    "    rollUp = np.roll(heatmap, -1, axis=0)\n",
    "    rollUp[-1,:] = np.inf\n",
    "    rollRight = np.roll(heatmap, 1, axis=1)\n",
    "    rollRight[:,0] = np.inf\n",
    "    rollLeft = np.roll(heatmap, -1, axis=1)\n",
    "    rollLeft[:,-1] = np.inf\n",
    "    \n",
    "    lowest = np.logical_and(np.logical_and(heatmap < rollDown, heatmap < rollUp),  np.logical_and(heatmap < rollLeft, heatmap < rollRight))\n",
    "    idx = np.where(lowest)\n",
    "    return np.sum(heatmap[idx]+1)"
   ]
  },
  {
   "cell_type": "code",
   "execution_count": 218,
   "id": "a4278153-58b0-4703-b310-25727a80bc10",
   "metadata": {},
   "outputs": [],
   "source": [
    "def calculateBasin(heatmap, x, y, visited):\n",
    "    if x >= heatmap.shape[0] or x < 0 or y >= heatmap.shape[1] or y < 0 or heatmap[x,y] == False:\n",
    "        return 0\n",
    "    if (x,y) not in visited:\n",
    "        visited.append((x,y))\n",
    "        return 1 + calculateBasin(heatmap, x+1, y, visited) + calculateBasin(heatmap, x-1, y, visited) + calculateBasin(heatmap, x, y+1, visited) + calculateBasin(heatmap, x, y-1, visited)\n",
    "    return 0\n",
    "\n",
    "\n",
    "def part2(arr):\n",
    "    heatmap = np.array([list(i) for i in arr]).astype(float)\n",
    "    rollDown = np.roll(heatmap, 1, axis=0)\n",
    "    rollDown[0,:] = np.inf\n",
    "    rollUp = np.roll(heatmap, -1, axis=0)\n",
    "    rollUp[-1,:] = np.inf\n",
    "    rollRight = np.roll(heatmap, 1, axis=1)\n",
    "    rollRight[:,0] = np.inf\n",
    "    rollLeft = np.roll(heatmap, -1, axis=1)\n",
    "    rollLeft[:,-1] = np.inf\n",
    "    \n",
    "    lowest = np.logical_and(np.logical_and(heatmap < rollDown, heatmap < rollUp),  np.logical_and(heatmap < rollLeft, heatmap < rollRight))\n",
    "    unpeak = heatmap != 9.\n",
    "    idx = np.where(lowest)\n",
    "    sizes = [calculateBasin(unpeak, x,y,[]) for x,y in zip(idx[0], idx[1])]\n",
    "    sizes.sort()\n",
    "    return sizes[-1] * sizes[-2] * sizes[-3]"
   ]
  },
  {
   "cell_type": "code",
   "execution_count": 220,
   "id": "f193ee46-f43d-4c2a-a51e-afd5cde4a25a",
   "metadata": {},
   "outputs": [
    {
     "name": "stdout",
     "output_type": "stream",
     "text": [
      "444.0\n",
      "[[7. 6. 7. ... 6. 7. 8.]\n",
      " [4. 5. 6. ... 5. 6. 7.]\n",
      " [5. 6. 7. ... 4. 5. 6.]\n",
      " ...\n",
      " [6. 5. 6. ... 5. 6. 7.]\n",
      " [3. 4. 5. ... 4. 7. 8.]\n",
      " [4. 5. 6. ... 5. 6. 7.]]\n",
      "1168440\n"
     ]
    }
   ],
   "source": [
    "if __name__ == \"__main__\":\n",
    "    file = sys.argv[-1] if sys.argv[-1].endswith(\".txt\") else \"input.txt\"\n",
    "    with open(file, \"r\") as f:\n",
    "        arr = f.read().splitlines()\n",
    "\n",
    "        print(part1(arr))\n",
    "        print(part2(arr))"
   ]
  },
  {
   "cell_type": "code",
   "execution_count": null,
   "id": "f1811fbd-40c1-4ffe-9de6-f52cf50e30c6",
   "metadata": {},
   "outputs": [],
   "source": []
  },
  {
   "cell_type": "code",
   "execution_count": null,
   "id": "892934de-2720-49d7-af02-6564d0a60ddd",
   "metadata": {},
   "outputs": [],
   "source": []
  }
 ],
 "metadata": {
  "kernelspec": {
   "display_name": "Python 3",
   "language": "python",
   "name": "python3"
  },
  "language_info": {
   "codemirror_mode": {
    "name": "ipython",
    "version": 3
   },
   "file_extension": ".py",
   "mimetype": "text/x-python",
   "name": "python",
   "nbconvert_exporter": "python",
   "pygments_lexer": "ipython3",
   "version": "3.9.1"
  }
 },
 "nbformat": 4,
 "nbformat_minor": 5
}
