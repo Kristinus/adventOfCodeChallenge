{
 "cells": [
  {
   "cell_type": "code",
   "execution_count": 1,
   "id": "908ee2f8-6946-4e53-9504-61afa88fae82",
   "metadata": {},
   "outputs": [],
   "source": [
    "import sys\n",
    "import numpy as np\n",
    "import math\n",
    "import operator\n",
    "import functools\n",
    "import json\n",
    "from pprint import pprint"
   ]
  },
  {
   "cell_type": "code",
   "execution_count": 2,
   "id": "399ec631-c73a-4054-a1b3-789d961eb5da",
   "metadata": {},
   "outputs": [],
   "source": [
    "class Command:\n",
    "    def __init__(self, on, xyz, offset=0):\n",
    "        self.on = 1 if on == \"on\" else 0\n",
    "        self.x, self.y, self.z = [[int(x)+offset for x in i[2:].split(\"..\")] for i in xyz.split(\",\")]\n",
    "    \n",
    "    def updateCubes(self, cuboid):\n",
    "        if self.x[0] >= 0 and self.x[1] <= 100 and self.y[0] >= 0 and self.y[1] <= 100 and self.z[0] >= 0 and self.z[1] <= 100:\n",
    "            cuboid[self.x[0]:self.x[1]+1,self.y[0]:self.y[1]+1,self.z[0]:self.z[1]+1] = self.on\n",
    "    \n",
    "    def __repr__(self):\n",
    "        return f\"{self.on}: {self.x}:{self.x[1]-self.x[0]}, {self.y}:{self.y[1]-self.y[0]}, {self.z}:{self.z[1]-self.z[0]}\"\n",
    "        "
   ]
  },
  {
   "cell_type": "code",
   "execution_count": 3,
   "id": "bf67a03c-43de-4c43-b721-f5f133d7fba5",
   "metadata": {},
   "outputs": [],
   "source": [
    "def part1(arr):\n",
    "    cubes = np.zeros((101, 101, 101))\n",
    "    commands = [Command(*i.split(), 50) for i in arr]\n",
    "    for c in commands:\n",
    "        # print(c)\n",
    "        c.updateCubes(cubes)\n",
    "        # print(len(np.where(cubes == 1)[0]))\n",
    "    \n",
    "    return len(np.where(cubes == 1)[0])"
   ]
  },
  {
   "cell_type": "code",
   "execution_count": 71,
   "id": "a4278153-58b0-4703-b310-25727a80bc10",
   "metadata": {},
   "outputs": [],
   "source": [
    "class Cuboid:\n",
    "    def __or__(self, other):\n",
    "        return UnionCuboid(self, other)\n",
    "    \n",
    "    def __and__(self, other):\n",
    "        return self.inter(other)\n",
    "    \n",
    "    def __sub__(self, other):\n",
    "        return DiffCuboid(self, other)\n",
    "    \n",
    "class SimpleCuboid(Cuboid):\n",
    "    xs: range\n",
    "    ys: range\n",
    "    zs: range\n",
    "    \n",
    "    def __init__(self, xs, ys, zs):\n",
    "        self.xs = xs\n",
    "        self.ys = ys\n",
    "        self.zs = zs\n",
    "    \n",
    "    def __len__(self):\n",
    "        return len(self.xs) * len(self.ys) * len(self.zs)\n",
    "    \n",
    "    def inter(self, other):\n",
    "        if type(other) == SimpleCuboid:\n",
    "            x_range = range(max(self.xs.start, other.xs.start), min(self.xs.stop, other.xs.stop))\n",
    "            y_range = range(max(self.ys.start, other.ys.start), min(self.ys.stop, other.ys.stop))\n",
    "            z_range = range(max(self.zs.start, other.zs.start), min(self.zs.stop, other.zs.stop))\n",
    "            if any(len(r) == 0 for r in (x_range, y_range, z_range)):\n",
    "                return NullCuboid\n",
    "            return SimpleCuboid(x_range, y_range, z_range)\n",
    "        else:\n",
    "            return other.inter(self)\n",
    "        \n",
    "    def __repr__(self):\n",
    "        return f\"{{\\\"SimpleCuboid\\\": [{self.xs},{self.ys},{self.zs}]}}\"\n",
    "        \n",
    "class _NullCuboid(Cuboid):\n",
    "    instance = None\n",
    "\n",
    "    def __new__(cls):\n",
    "        if cls.instance is None:\n",
    "            cls.instance = super(_NullCuboid, cls).__new__(cls)\n",
    "        return cls.instance\n",
    "    \n",
    "    def __len__(self):\n",
    "        return 0\n",
    "    \n",
    "    def inter(self, other):\n",
    "        return NullCuboid\n",
    "    \n",
    "    def __repr__(self):\n",
    "        return f\"{{\\\"NullCuboid\\\": 0}}\"\n",
    "\n",
    "NullCuboid = _NullCuboid()\n",
    "        \n",
    "    \n",
    "class UnionCuboid(Cuboid):\n",
    "    left: Cuboid\n",
    "    right: Cuboid\n",
    "    \n",
    "    def __init__(self, left, right):\n",
    "        self.left = left\n",
    "        self.right = right\n",
    "    \n",
    "    def __len__(self):\n",
    "        return len(self.left) + len(self.right) - len(self.left & self.right)\n",
    "    \n",
    "    def inter(self, other):\n",
    "        left_int = self.left & other\n",
    "        right_int = self.right & other\n",
    "\n",
    "        if left_int is NullCuboid:\n",
    "            return right_int\n",
    "        if right_int is NullCuboid:\n",
    "            return left_int\n",
    "        return left_int | right_int\n",
    "    \n",
    "    def __repr__(self):\n",
    "        return f\"{{\\\"UnionCuboid\\\": [{self.left}, {self.right}]}}\"\n",
    "    \n",
    "    \n",
    "class DiffCuboid(Cuboid):\n",
    "    main: Cuboid\n",
    "    sub: Cuboid\n",
    "    \n",
    "    def __init__(self, main, sub):\n",
    "        self.main = main\n",
    "        self.sub = sub\n",
    "    \n",
    "    def __len__(self):\n",
    "        return len(self.main) - len(self.main & self.sub)\n",
    "    \n",
    "    def inter(self, other):\n",
    "        if (main_int := self.main & other) is NullCuboid:\n",
    "            return NullCuboid\n",
    "        return main_int - self.sub\n",
    "    \n",
    "    def __repr__(self):\n",
    "        return f\"{{ \\\"DiffCuboid\\\" : [{self.main}, {self.sub}]}}\"\n",
    "    \n",
    "        \n",
    "def part2(arr):\n",
    "    commands = [Command(*i.split()) for i in arr]\n",
    "    result = NullCuboid\n",
    "    for c in commands:\n",
    "        cuboid = SimpleCuboid(range(c.x[0],c.x[1]+1), range(c.y[0],c.y[1]+1), range(c.z[0],c.z[1]+1))\n",
    "        if c.on:\n",
    "            result |= cuboid\n",
    "        else:\n",
    "            result -= cuboid\n",
    "    return len(result)"
   ]
  },
  {
   "cell_type": "code",
   "execution_count": 73,
   "id": "f193ee46-f43d-4c2a-a51e-afd5cde4a25a",
   "metadata": {},
   "outputs": [
    {
     "data": {
      "text/html": [
       "<style>div.jp-OutputArea-output pre {white-space: pre;}</style>"
      ],
      "text/plain": [
       "<IPython.core.display.HTML object>"
      ]
     },
     "metadata": {},
     "output_type": "display_data"
    },
    {
     "name": "stdout",
     "output_type": "stream",
     "text": [
      "570915\n",
      "1268313839428137\n"
     ]
    }
   ],
   "source": [
    "from IPython.core.display import display, HTML\n",
    "display(HTML(\"<style>div.jp-OutputArea-output pre {white-space: pre;}</style>\"))\n",
    "\n",
    "if __name__ == \"__main__\":\n",
    "    file = sys.argv[-1] if sys.argv[-1].endswith(\".txt\") else \"input.txt\"\n",
    "    with open(file, \"r\") as f:\n",
    "        arr = f.read().splitlines()\n",
    "\n",
    "        print(part1(arr))\n",
    "        print(part2(arr))"
   ]
  },
  {
   "cell_type": "code",
   "execution_count": null,
   "id": "f1811fbd-40c1-4ffe-9de6-f52cf50e30c6",
   "metadata": {},
   "outputs": [],
   "source": []
  },
  {
   "cell_type": "code",
   "execution_count": null,
   "id": "ada34035-c741-4161-9f05-48eeb1e89a02",
   "metadata": {},
   "outputs": [],
   "source": []
  },
  {
   "cell_type": "code",
   "execution_count": null,
   "id": "e70a5be4-8774-435e-bdb3-4e0028c5bd06",
   "metadata": {},
   "outputs": [],
   "source": []
  },
  {
   "cell_type": "code",
   "execution_count": null,
   "id": "00899b01-d321-44d2-a8d7-b4c1fc86457f",
   "metadata": {},
   "outputs": [],
   "source": []
  }
 ],
 "metadata": {
  "kernelspec": {
   "display_name": "Python 3 (ipykernel)",
   "language": "python",
   "name": "python3"
  },
  "language_info": {
   "codemirror_mode": {
    "name": "ipython",
    "version": 3
   },
   "file_extension": ".py",
   "mimetype": "text/x-python",
   "name": "python",
   "nbconvert_exporter": "python",
   "pygments_lexer": "ipython3",
   "version": "3.9.1"
  }
 },
 "nbformat": 4,
 "nbformat_minor": 5
}
