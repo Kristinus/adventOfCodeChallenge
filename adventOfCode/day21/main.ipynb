{
 "cells": [
  {
   "cell_type": "code",
   "execution_count": 1,
   "id": "908ee2f8-6946-4e53-9504-61afa88fae82",
   "metadata": {},
   "outputs": [],
   "source": [
    "import sys\n",
    "import numpy as np\n",
    "import math\n",
    "import operator\n",
    "import functools\n",
    "import json\n",
    "from pprint import pprint"
   ]
  },
  {
   "cell_type": "code",
   "execution_count": 2,
   "id": "d84bc203-0311-4bf4-a9c9-f27ab411c8c9",
   "metadata": {},
   "outputs": [],
   "source": [
    "def part1(arr):\n",
    "    pos_1 = int(arr[0][-1])\n",
    "    pos_2 = int(arr[1][-1])\n",
    "    rolls = 1\n",
    "    point_1, point_2 = 0 ,0\n",
    "    while point_1 < 1000 and point_2 < 1000:\n",
    "        value = rolls % 100\n",
    "        if rolls % 2 != 0:\n",
    "            pos_1 += 3 * value + 3\n",
    "            pos_1 = 10 if pos_1 % 10 == 0 else pos_1 % 10\n",
    "            point_1 += pos_1\n",
    "        else:\n",
    "            pos_2 += 3 * value + 3\n",
    "            pos_2 = 10 if pos_2 % 10 == 0 else pos_2 % 10\n",
    "            point_2 += pos_2\n",
    "        rolls += 3\n",
    "    \n",
    "    return (rolls-1) * min(point_1, point_2)"
   ]
  },
  {
   "cell_type": "code",
   "execution_count": 4,
   "id": "a4278153-58b0-4703-b310-25727a80bc10",
   "metadata": {},
   "outputs": [],
   "source": [
    "combinations = [\n",
    "  [1, 1, 1],\n",
    "  [1, 1, 2],\n",
    "  [1, 1, 3],\n",
    "  [1, 2, 1],\n",
    "  [1, 2, 2],\n",
    "  [1, 2, 3],\n",
    "  [1, 3, 1],\n",
    "  [1, 3, 2],\n",
    "  [1, 3, 3],\n",
    "  [2, 1, 1],\n",
    "  [2, 1, 2],\n",
    "  [2, 1, 3],\n",
    "  [2, 2, 1],\n",
    "  [2, 2, 2],\n",
    "  [2, 2, 3],\n",
    "  [2, 3, 1],\n",
    "  [2, 3, 2],\n",
    "  [2, 3, 3],\n",
    "  [3, 1, 1],\n",
    "  [3, 1, 2],\n",
    "  [3, 1, 3],\n",
    "  [3, 2, 1],\n",
    "  [3, 2, 2],\n",
    "  [3, 2, 3],\n",
    "  [3, 3, 1],\n",
    "  [3, 3, 2],\n",
    "  [3, 3, 3],\n",
    "]\n",
    "\n",
    "wins = {}\n",
    "\n",
    "def _roll(p1, p2, s1, s2):\n",
    "    if s2 >= 21:\n",
    "        return [0,1]\n",
    "    key = f\"{p1}|{p2}|{s1}|{s2}\"\n",
    "    if key in wins:\n",
    "        return wins[key]\n",
    "    res = [0,0]\n",
    "    for rolls in combinations:\n",
    "        n1 = p1 + rolls[0] + rolls[1] + rolls[2]\n",
    "        n1 = n1 if n1 <= 10 else n1 % 10\n",
    "        win = _roll(p2, n1, s2, s1 + n1)\n",
    "        res[0] += win[1]\n",
    "        res[1] += win[0]\n",
    "    wins[key] = res\n",
    "    return res\n",
    "\n",
    "\n",
    "def part2(arr):\n",
    "    pos_1 = int(arr[0][-1])\n",
    "    pos_2 = int(arr[1][-1])\n",
    "    total = _roll(pos_1, pos_2, 0, 0)\n",
    "    \n",
    "    return max(total)"
   ]
  },
  {
   "cell_type": "code",
   "execution_count": 5,
   "id": "f193ee46-f43d-4c2a-a51e-afd5cde4a25a",
   "metadata": {},
   "outputs": [
    {
     "name": "stdout",
     "output_type": "stream",
     "text": [
      "920580\n",
      "647920021341197\n"
     ]
    }
   ],
   "source": [
    "if __name__ == \"__main__\":\n",
    "    file = sys.argv[-1] if sys.argv[-1].endswith(\".txt\") else \"input.txt\"\n",
    "    with open(file, \"r\") as f:\n",
    "        arr = f.read().splitlines()\n",
    "\n",
    "        print(part1(arr))\n",
    "        print(part2(arr))"
   ]
  },
  {
   "cell_type": "code",
   "execution_count": null,
   "id": "f1811fbd-40c1-4ffe-9de6-f52cf50e30c6",
   "metadata": {},
   "outputs": [],
   "source": []
  },
  {
   "cell_type": "code",
   "execution_count": null,
   "id": "0c04e443-54fb-4feb-843f-ee0e8f01f271",
   "metadata": {},
   "outputs": [],
   "source": []
  }
 ],
 "metadata": {
  "kernelspec": {
   "display_name": "Python 3 (ipykernel)",
   "language": "python",
   "name": "python3"
  },
  "language_info": {
   "codemirror_mode": {
    "name": "ipython",
    "version": 3
   },
   "file_extension": ".py",
   "mimetype": "text/x-python",
   "name": "python",
   "nbconvert_exporter": "python",
   "pygments_lexer": "ipython3",
   "version": "3.9.1"
  }
 },
 "nbformat": 4,
 "nbformat_minor": 5
}
