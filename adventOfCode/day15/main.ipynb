{
 "cells": [
  {
   "cell_type": "code",
   "execution_count": 1,
   "id": "87ad43d4-0981-46a3-b3b0-658eb60887b1",
   "metadata": {},
   "outputs": [],
   "source": [
    "import sys\n",
    "import numpy as np"
   ]
  },
  {
   "cell_type": "code",
   "execution_count": 14,
   "id": "221f3438-509c-40b8-9570-8b46fba1821d",
   "metadata": {},
   "outputs": [],
   "source": [
    "class Node:\n",
    "    def __init__(self, pos, value):\n",
    "        self.pos = pos\n",
    "        self.value = value\n",
    "        self.parent = None\n",
    "        self.H = 0\n",
    "        self.G = 0\n",
    "    def move_cost(self,other):\n",
    "        return other.value\n",
    "    def __eq__(self, other):\n",
    "        return self.pos == other.pos\n",
    "    \n",
    "    \n",
    "    \n",
    "def children(grid, point):\n",
    "    x,y = point.pos\n",
    "    return [Node(p, grid[p]) for p in [(x-1, y),(x,y - 1),(x,y + 1),(x+1,y)] if p[0] < grid.shape[0] and p[0] >= 0 and p[1] < grid.shape[1] and p[1] >= 0]\n",
    "\n",
    "def manhattan(point,point2):\n",
    "    return abs(point.pos[0] - point2.pos[0]) + abs(point.pos[1]-point2.pos[0])    \n",
    "\n",
    "def aStar(grid, start, goal):\n",
    "    #The open and closed sets\n",
    "    openset = []\n",
    "    closedset = []\n",
    "    #Current point is the starting point\n",
    "    current = Node(start, grid[start])\n",
    "    end = Node(goal, grid[goal])\n",
    "    #Add the starting point to the open set\n",
    "    openset.append(current)\n",
    "    #While the open set is not empty\n",
    "    while openset:\n",
    "        #Find the item in the open set with the lowest G + H score\n",
    "        current = min(openset, key=lambda o:o.G + o.H)\n",
    "        #If it is the item we want, retrace the path and return it\n",
    "        if current == end:\n",
    "            path = []\n",
    "            while current.parent:\n",
    "                path.append(current.value)\n",
    "                current = current.parent\n",
    "            path.append(current.value)\n",
    "            return path[::-1]\n",
    "        #Remove the item from the open set\n",
    "        openset.remove(current)\n",
    "        #Add it to the closed set\n",
    "        closedset.append(current)\n",
    "        \n",
    "        # print(current.pos, len(openset), len(closedset))\n",
    "        #Loop through the node's children/siblings\n",
    "        for node in children(grid, current):\n",
    "            #If it is already in the closed set, skip it\n",
    "            if node in closedset:\n",
    "                continue\n",
    "            #Otherwise if it is already in the open set\n",
    "            if node in openset:\n",
    "                #Check if we beat the G score \n",
    "                new_g = current.G + current.move_cost(node)\n",
    "                if node.G > new_g:\n",
    "                    #If so, update the node to have a new parent\n",
    "                    node.G = new_g\n",
    "                    node.parent = current\n",
    "            else:\n",
    "                #If it isn't in the open set, calculate the G and H score for the node\n",
    "                node.G = current.G + current.move_cost(node)\n",
    "                node.H = manhattan(node, end)\n",
    "                #Set the parent to our current item\n",
    "                node.parent = current\n",
    "                #Add it to the set\n",
    "                openset.append(node)\n",
    "    #Throw an exception if there is no path\n",
    "    raise ValueError('No Path Found')"
   ]
  },
  {
   "cell_type": "code",
   "execution_count": 15,
   "id": "d84bc203-0311-4bf4-a9c9-f27ab411c8c9",
   "metadata": {},
   "outputs": [],
   "source": [
    "def part1(arr):\n",
    "    level = np.array([[int(i) for i in line] for line in arr])\n",
    "    \n",
    "    path = aStar(level, (0,0), (level.shape[0]-1, level.shape[1]-1))\n",
    "    print(path)\n",
    "    return sum(path) - path[0]"
   ]
  },
  {
   "cell_type": "code",
   "execution_count": 16,
   "id": "a4278153-58b0-4703-b310-25727a80bc10",
   "metadata": {},
   "outputs": [],
   "source": [
    "def part2(arr):\n",
    "    return"
   ]
  },
  {
   "cell_type": "code",
   "execution_count": 17,
   "id": "f193ee46-f43d-4c2a-a51e-afd5cde4a25a",
   "metadata": {},
   "outputs": [
    {
     "name": "stdout",
     "output_type": "stream",
     "text": [
      "[1, 6, 1, 1, 2, 1, 1, 1, 1, 4, 1, 1, 1, 1, 2, 4, 1, 1, 1, 3, 1, 3, 4, 1, 3, 1, 1, 1, 2, 5, 1, 1, 1, 9, 2, 2, 1, 2, 1, 1, 1, 1, 1, 1, 2, 2, 2, 1, 1, 1, 1, 5, 1, 3, 1, 1, 1, 3, 2, 1, 1, 1, 1, 1, 7, 1, 1, 2, 3, 1, 1, 1, 2, 3, 1, 1, 3, 7, 3, 2, 1, 1, 1, 1, 1, 1, 2, 1, 1, 5, 2, 1, 1, 1, 1, 3, 1, 1, 1, 4, 1, 1, 4, 1, 1, 1, 1, 1, 3, 7, 1, 1, 1, 2, 2, 1, 1, 1, 2, 1, 2, 1, 1, 2, 1, 1, 4, 1, 1, 1, 1, 2, 7, 1, 1, 2, 1, 1, 9, 1, 1, 1, 2, 1, 1, 1, 3, 1, 2, 2, 2, 2, 1, 1, 2, 1, 3, 1, 2, 3, 1, 2, 4, 1, 2, 1, 1, 1, 1, 5, 1, 1, 1, 3, 3, 1, 1, 1, 2, 4, 1, 1, 1, 4, 3, 1, 1, 4, 2, 2, 2, 2, 1, 1, 1, 5, 2, 1, 1]\n",
      "364\n",
      "None\n"
     ]
    }
   ],
   "source": [
    "if __name__ == \"__main__\":\n",
    "    file = sys.argv[-1] if sys.argv[-1].endswith(\".txt\") else \"input.txt\"\n",
    "    with open(file, \"r\") as f:\n",
    "        arr = f.read().splitlines()\n",
    "\n",
    "        print(part1(arr))\n",
    "        print(part2(arr))"
   ]
  },
  {
   "cell_type": "code",
   "execution_count": null,
   "id": "f1811fbd-40c1-4ffe-9de6-f52cf50e30c6",
   "metadata": {},
   "outputs": [],
   "source": []
  },
  {
   "cell_type": "code",
   "execution_count": null,
   "id": "b0c73ea6-6a2d-4145-8aa1-6b926497930f",
   "metadata": {},
   "outputs": [],
   "source": [
    "< 364\n",
    "> 350"
   ]
  }
 ],
 "metadata": {
  "kernelspec": {
   "display_name": "Python 3",
   "language": "python",
   "name": "python3"
  },
  "language_info": {
   "codemirror_mode": {
    "name": "ipython",
    "version": 3
   },
   "file_extension": ".py",
   "mimetype": "text/x-python",
   "name": "python",
   "nbconvert_exporter": "python",
   "pygments_lexer": "ipython3",
   "version": "3.9.1"
  }
 },
 "nbformat": 4,
 "nbformat_minor": 5
}
