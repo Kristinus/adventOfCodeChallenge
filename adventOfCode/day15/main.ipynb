{
 "cells": [
  {
   "cell_type": "code",
   "execution_count": 98,
   "id": "650a92f7-8e78-4928-b5e5-532456e43e58",
   "metadata": {},
   "outputs": [],
   "source": [
    "import sys\n",
    "import numpy as np\n",
    "from operator import sub"
   ]
  },
  {
   "cell_type": "code",
   "execution_count": 99,
   "id": "5dd458b5-a5c8-4edd-b343-83cb7433492d",
   "metadata": {},
   "outputs": [],
   "source": [
    "import heapq\n",
    "\n",
    "class PriorityQueue:\n",
    "    def __init__(self):\n",
    "        self.li = []\n",
    "        heapq.heapify(self.li)\n",
    "    def put(self, value):\n",
    "        heapq.heappush(self.li, value)\n",
    "    def empty(self):\n",
    "        return len(self.li) == 0\n",
    "    def get(self):\n",
    "        return heapq.heappop(self.li)\n",
    "    def __repr__(self):\n",
    "        return str(self.li)"
   ]
  },
  {
   "cell_type": "code",
   "execution_count": 100,
   "id": "221f3438-509c-40b8-9570-8b46fba1821d",
   "metadata": {},
   "outputs": [],
   "source": [
    "def neighbours(grid, pos):\n",
    "    x,y = pos\n",
    "    return [p for p in [(x-1, y),(x,y - 1),(x,y + 1),(x+1,y)] if p[0] < grid.shape[0] and p[0] >= 0 and p[1] < grid.shape[1] and p[1] >= 0]\n",
    "    \n",
    "def dijkstra(graph, start):\n",
    "    D = np.full(graph.shape, np.inf)\n",
    "    D[start] = 0\n",
    "    prev = np.full(graph.shape, None)\n",
    "\n",
    "    pq = PriorityQueue()\n",
    "    pq.put((0, start))\n",
    "    while not pq.empty():\n",
    "        (dist, current) = pq.get()\n",
    "        for nb in neighbours(graph, current):\n",
    "            new_cost = D[current] + graph[nb]\n",
    "            if new_cost < D[nb]:\n",
    "                pq.put((new_cost, nb))\n",
    "                D[nb] = new_cost\n",
    "                prev[nb] = current\n",
    "    return D"
   ]
  },
  {
   "cell_type": "code",
   "execution_count": 124,
   "id": "d84bc203-0311-4bf4-a9c9-f27ab411c8c9",
   "metadata": {},
   "outputs": [],
   "source": [
    "def part1(arr):\n",
    "    level = np.array([[int(i) for i in line] for line in arr])\n",
    "    D = dijkstra(level, (0,0))\n",
    "    return D[tuple(map(sub, D.shape, (1,1)))]"
   ]
  },
  {
   "cell_type": "code",
   "execution_count": 125,
   "id": "a4278153-58b0-4703-b310-25727a80bc10",
   "metadata": {},
   "outputs": [],
   "source": [
    "def part2(arr):\n",
    "    level = np.array([[int(i) for i in line] for line in arr])\n",
    "    grid = level\n",
    "    for i in range(1, 5):\n",
    "        grid = np.c_[grid, level + i]\n",
    "    level = grid\n",
    "    for i in range(1,5):\n",
    "        grid = np.r_[grid, level + i]\n",
    "\n",
    "    grid[np.where(grid > 9)] -= 9\n",
    "    D = dijkstra(grid, (0,0))\n",
    "    return D[tuple(map(sub, D.shape, (1,1)))]"
   ]
  },
  {
   "cell_type": "code",
   "execution_count": 126,
   "id": "f193ee46-f43d-4c2a-a51e-afd5cde4a25a",
   "metadata": {},
   "outputs": [
    {
     "name": "stdout",
     "output_type": "stream",
     "text": [
      "363.0\n",
      "2835.0\n"
     ]
    }
   ],
   "source": [
    "if __name__ == \"__main__\":\n",
    "    file = sys.argv[-1] if sys.argv[-1].endswith(\".txt\") else \"input.txt\"\n",
    "    with open(file, \"r\") as f:\n",
    "        arr = f.read().splitlines()\n",
    "\n",
    "        print(part1(arr))\n",
    "        print(part2(arr))"
   ]
  },
  {
   "cell_type": "code",
   "execution_count": null,
   "id": "f1811fbd-40c1-4ffe-9de6-f52cf50e30c6",
   "metadata": {},
   "outputs": [],
   "source": []
  },
  {
   "cell_type": "code",
   "execution_count": null,
   "id": "b0c73ea6-6a2d-4145-8aa1-6b926497930f",
   "metadata": {},
   "outputs": [],
   "source": []
  }
 ],
 "metadata": {
  "kernelspec": {
   "display_name": "Python 3 (ipykernel)",
   "language": "python",
   "name": "python3"
  },
  "language_info": {
   "codemirror_mode": {
    "name": "ipython",
    "version": 3
   },
   "file_extension": ".py",
   "mimetype": "text/x-python",
   "name": "python",
   "nbconvert_exporter": "python",
   "pygments_lexer": "ipython3",
   "version": "3.9.7"
  }
 },
 "nbformat": 4,
 "nbformat_minor": 5
}
