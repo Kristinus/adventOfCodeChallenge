{
 "cells": [
  {
   "cell_type": "code",
   "execution_count": 1,
   "id": "dffe7414-2937-4978-ae6c-b237c5f8eb53",
   "metadata": {},
   "outputs": [],
   "source": [
    "import sys\n",
    "import numpy as np\n",
    "import math\n",
    "import operator\n",
    "import functools\n",
    "import json\n",
    "from pprint import pprint"
   ]
  },
  {
   "cell_type": "code",
   "execution_count": 184,
   "id": "cc518ef6-fb92-4779-bf6e-2c3455f8fd3d",
   "metadata": {},
   "outputs": [],
   "source": [
    "from queue import PriorityQueue\n",
    "\n",
    "TARGET_ROOM_X = [2, 4, 6, 8]\n",
    "COSTS = {\"A\": 1, \"B\": 10, \"C\": 100, \"D\": 1000}\n",
    "ROOM_MARKERS = [\"A\", \"B\", \"C\", \"D\"]\n",
    "ALLOWED_HALL_SPOTS = [0, 1, 3, 5, 7, 9, 10]\n",
    "\n",
    "# Dict of {marker: x_value}\n",
    "ROOM_MARKER_X = {marker: x for marker, x in zip(ROOM_MARKERS, TARGET_ROOM_X)}\n",
    "# Dict of {marker: target_index}\n",
    "ROOM_MARKER_IDX = {marker: idx for marker, idx in zip(ROOM_MARKERS, range(4))}\n",
    "\n",
    "HALLWAY_MARKER = \"H\"\n",
    "\n",
    "TERMINAL_PT1 = np.array([[ROOM_MARKERS[i] for _ in range(2)] for i in range(4)], dtype=object)\n",
    "TERMINAL_PT2 = np.array([[ROOM_MARKERS[i] for _ in range(4)] for i in range(4)], dtype=object)\n",
    "EMPTY_HALLWAY = np.array([None for _ in range(11)], dtype=object)\n",
    "\n",
    "COST_MAP = {(EMPTY_HALLWAY.tobytes(), TERMINAL_PT1.tobytes()): 0,\n",
    "            (EMPTY_HALLWAY.tobytes(), TERMINAL_PT2.tobytes()): 0}\n",
    "BEST_MOVES = {}\n",
    "LOG_COUNT = 0\n",
    "MAX_LOG_COUNT = 20\n",
    "DEBUG = False\n",
    "\n",
    "def resetGlobals():\n",
    "    global COST_MAP\n",
    "    COST_MAP = {(EMPTY_HALLWAY.tobytes(), TERMINAL_PT1.tobytes()): 0,\n",
    "                (EMPTY_HALLWAY.tobytes(), TERMINAL_PT2.tobytes()): 0}\n",
    "    global BEST_MOVES\n",
    "    BEST_MOVES = {}\n",
    "    global LOG_COUNT\n",
    "    LOG_COUNT = 0"
   ]
  },
  {
   "cell_type": "code",
   "execution_count": 187,
   "id": "e635c7e4-42d0-4dd7-9a7e-89dbaa3cd6d5",
   "metadata": {},
   "outputs": [],
   "source": [
    "def get_moveables(hallway, rooms):\n",
    "    # Returns a list of moveable markers\n",
    "    # Returns list of tuple(room or hallway, pos_x, marker)\n",
    "    moveable = []\n",
    "    # Can only move from room to hallway or hallway to room\n",
    "    for i, mark in enumerate(hallway):\n",
    "        if mark is None:\n",
    "            continue\n",
    "        target_room = rooms[ROOM_MARKER_IDX[mark]]\n",
    "        if not is_open_room(target_room, mark):\n",
    "            continue\n",
    "        target_x = ROOM_MARKER_X[mark]\n",
    "        if hallway_blocked(hallway, i, target_x):\n",
    "            continue\n",
    "        moveable.append((HALLWAY_MARKER, i, mark))\n",
    "    # Prioritize moving from hallway \n",
    "    if moveable:\n",
    "        return moveable\n",
    "    for i, room in enumerate(rooms):\n",
    "        room_x = TARGET_ROOM_X[i]\n",
    "        # If there are no exits\n",
    "        if hallway[room_x-1] is not None and hallway[room_x+1] is not None:\n",
    "            continue\n",
    "        # If room consists of correct marker or None then none need to move\n",
    "        if all(r == None or r == ROOM_MARKERS[i] for r in room):\n",
    "            continue\n",
    "        # Get top marker\n",
    "        markers = [(idx+1, r) for idx, r in enumerate(room) if r]\n",
    "        moveable.append((i, *markers[0]))\n",
    "    return moveable\n",
    "        \n",
    "def is_open_room(room: tuple, marker: str):\n",
    "    # check if consists of only None and marker and top is None\n",
    "    return all(pod is None or pod == marker for pod in room) and room[0] is None\n",
    "\n",
    "def hallway_blocked(hallway, cur_x, tar_x, DEBUG=False):\n",
    "    if cur_x < tar_x:\n",
    "        return not np.all(hallway[cur_x+1: tar_x+1] == None)\n",
    "    else:\n",
    "        return not np.all(hallway[tar_x: cur_x] == None)\n",
    "    \n",
    "def move_pod(pod, hallway, rooms):\n",
    "    # Return lists of possible places a pod can move to and distance\n",
    "    pos_marker, idx, room_marker = pod\n",
    "    # If from hallway, move to target (one possibility)\n",
    "    if pos_marker == HALLWAY_MARKER:\n",
    "        target_room_idx = ROOM_MARKER_IDX[room_marker]\n",
    "        target_room = rooms[target_room_idx]\n",
    "        target_room_x = ROOM_MARKER_X[room_marker]\n",
    "        \n",
    "        if is_open_room(target_room, room_marker):\n",
    "            # Get last open position\n",
    "            depth = len([r for r in target_room if r is None])\n",
    "            dist_to_room = abs(idx - target_room_x)\n",
    "            return [(target_room_idx, depth ,dist_to_room + depth)]\n",
    "        else:\n",
    "            return []\n",
    "    else:\n",
    "        pos_hall_loc = []\n",
    "        cur_room_x = TARGET_ROOM_X[pos_marker]\n",
    "        for spot in ALLOWED_HALL_SPOTS:\n",
    "            if hallway_blocked(hallway, cur_room_x, spot):\n",
    "                if cur_room_x < spot:\n",
    "                    break\n",
    "                continue\n",
    "            dist_to_hall = abs(cur_room_x - spot)\n",
    "            pos_hall_loc.append((HALLWAY_MARKER, spot, idx + dist_to_hall))\n",
    "        return pos_hall_loc\n",
    "    \n",
    "def move(hallway, rooms):\n",
    "    global DEBUG\n",
    "    if (hallway.tobytes(), rooms.tobytes()) in COST_MAP:\n",
    "        DEBUG = False\n",
    "        return COST_MAP[(hallway.tobytes(), rooms.tobytes())]\n",
    "    \n",
    "    moveables = get_moveables(hallway, rooms)\n",
    "    if DEBUG:\n",
    "        print(\"CURRENT:\")\n",
    "        print(compact(hallway, rooms.T), \"\\n\", moveables)\n",
    "    best_cost = np.inf\n",
    "    best_move = None\n",
    "    for pod in moveables:\n",
    "        pos_marker, pos_index, pod_marker = pod \n",
    "        dest_pods = move_pod(pod, hallway, rooms)\n",
    "        # if LOG_COUNT < MAX_LOG_COUNT:\n",
    "        if DEBUG:\n",
    "            print(\"MOVING:\")\n",
    "            print(pod)\n",
    "            print(dest_pods)\n",
    "        for dest in dest_pods:\n",
    "            dest_marker, dest_pos, num_steps = dest\n",
    "            new_hall = np.copy(hallway)\n",
    "            new_rooms = np.copy(rooms)\n",
    "            # From room to hall\n",
    "            if dest_marker == HALLWAY_MARKER:\n",
    "                new_hall[dest_pos] = pod_marker\n",
    "                new_rooms[pos_marker, pos_index-1] = None\n",
    "            # From hall to room\n",
    "            else:\n",
    "                new_hall[pos_index] = None\n",
    "                new_rooms[dest_marker, dest_pos-1] = pod_marker\n",
    "            \n",
    "            new_cost = move(new_hall, new_rooms)\n",
    "            move_cost = COSTS[pod_marker] * num_steps + new_cost\n",
    "            if DEBUG:\n",
    "                print(\"END:\", dest, move_cost, new_cost)\n",
    "            if move_cost < best_cost:\n",
    "                best_move = (new_hall, new_rooms)\n",
    "                best_cost = move_cost\n",
    "    COST_MAP[(hallway.tobytes(), rooms.tobytes())] = best_cost\n",
    "    if best_move is not None:\n",
    "        BEST_MOVES[(hallway.tobytes(), rooms.tobytes())] = best_move\n",
    "    return best_cost"
   ]
  },
  {
   "cell_type": "code",
   "execution_count": 188,
   "id": "0bf79fdb-2e38-4338-a7dc-3b27a95b122d",
   "metadata": {},
   "outputs": [],
   "source": [
    "def compact(hallway, rooms, cost=0):\n",
    "    empty_col = ['#' for _ in range(len(rooms))]\n",
    "    combined = np.insert(rooms, 0, empty_col, axis=1)\n",
    "    combined = np.insert(combined, 1, empty_col, axis=1)\n",
    "    combined = np.insert(combined, 3, empty_col, axis=1)\n",
    "    combined = np.insert(combined, 5, empty_col, axis=1)\n",
    "    combined = np.insert(combined, 7, empty_col, axis=1)\n",
    "    combined = np.insert(combined, 9, empty_col, axis=1)\n",
    "    combined = np.insert(combined, 10, empty_col, axis=1)\n",
    "    combined = np.insert(combined, 0, hallway.tolist(), axis=0)\n",
    "    combined[np.where(combined == None)] = ' '\n",
    "    return combined\n",
    "    "
   ]
  },
  {
   "cell_type": "code",
   "execution_count": 189,
   "id": "d84bc203-0311-4bf4-a9c9-f27ab411c8c9",
   "metadata": {},
   "outputs": [],
   "source": [
    "def part1(arr):\n",
    "    parsed = [row[3:-3].strip().split(\"#\", maxsplit=3) for row in arr[2:4]]\n",
    "    rooms = np.array([[r[i] for r in parsed] for i in range(4)], dtype=object)\n",
    "    resetGlobals()\n",
    "    \n",
    "    return move(EMPTY_HALLWAY, rooms)"
   ]
  },
  {
   "cell_type": "code",
   "execution_count": 190,
   "id": "a4278153-58b0-4703-b310-25727a80bc10",
   "metadata": {},
   "outputs": [],
   "source": [
    "def part2(arr):\n",
    "    global DEBUG\n",
    "    DEBUG = False\n",
    "    parsed = [row[3:-3].strip().split(\"#\", maxsplit=3) for row in arr[2:4]]\n",
    "    rooms = np.array([[r[i] for r in parsed] for i in range(4)], dtype=object)\n",
    "    resetGlobals()\n",
    "    rooms = np.insert(rooms, 1, ['D', 'C', 'B', 'A'], axis=1)\n",
    "    rooms = np.insert(rooms, 2, ['D', 'B', 'A', 'C'], axis=1)\n",
    "    \n",
    "    return move(EMPTY_HALLWAY, rooms)"
   ]
  },
  {
   "cell_type": "code",
   "execution_count": 194,
   "id": "f193ee46-f43d-4c2a-a51e-afd5cde4a25a",
   "metadata": {},
   "outputs": [
    {
     "name": "stdout",
     "output_type": "stream",
     "text": [
      "13495\n",
      "53767\n"
     ]
    }
   ],
   "source": [
    "if __name__ == \"__main__\":\n",
    "    file = sys.argv[-1] if sys.argv[-1].endswith(\".txt\") else \"input.txt\"\n",
    "    with open(file, \"r\") as f:\n",
    "        arr = f.read().splitlines()\n",
    "\n",
    "        print(part1(arr))\n",
    "        print(part2(arr))"
   ]
  },
  {
   "cell_type": "code",
   "execution_count": null,
   "id": "f1811fbd-40c1-4ffe-9de6-f52cf50e30c6",
   "metadata": {},
   "outputs": [],
   "source": []
  },
  {
   "cell_type": "code",
   "execution_count": null,
   "id": "dfda6262-c260-4091-9994-8ec283815438",
   "metadata": {},
   "outputs": [],
   "source": []
  },
  {
   "cell_type": "code",
   "execution_count": 186,
   "id": "74f938a5-acd5-46f1-ab82-f8a7cbd4b1c0",
   "metadata": {},
   "outputs": [
    {
     "name": "stdout",
     "output_type": "stream",
     "text": [
      "2\n"
     ]
    },
    {
     "data": {
      "text/plain": [
       "0"
      ]
     },
     "execution_count": 186,
     "metadata": {},
     "output_type": "execute_result"
    }
   ],
   "source": [
    "resetGlobals()\n",
    "print(len(COST_MAP))\n",
    "COST_MAP[(EMPTY_HALLWAY.tobytes(), TERMINAL_PT1.tobytes())]"
   ]
  },
  {
   "cell_type": "code",
   "execution_count": 193,
   "id": "805aff6b-8da4-4bf9-9d4f-006b09e8bc8b",
   "metadata": {},
   "outputs": [
    {
     "data": {
      "text/plain": [
       "2"
      ]
     },
     "execution_count": 193,
     "metadata": {},
     "output_type": "execute_result"
    }
   ],
   "source": [
    "COST_MAP = {(EMPTY_HALLWAY.tobytes(), TERMINAL_PT1.tobytes()): 0, (EMPTY_HALLWAY.tobytes(), TERMINAL_PT2.tobytes()): 0}\n",
    "len(COST_MAP)"
   ]
  },
  {
   "cell_type": "code",
   "execution_count": null,
   "id": "27e0eeba-b940-4244-a5f1-d0919d803e57",
   "metadata": {},
   "outputs": [],
   "source": []
  }
 ],
 "metadata": {
  "kernelspec": {
   "display_name": "Python 3 (ipykernel)",
   "language": "python",
   "name": "python3"
  },
  "language_info": {
   "codemirror_mode": {
    "name": "ipython",
    "version": 3
   },
   "file_extension": ".py",
   "mimetype": "text/x-python",
   "name": "python",
   "nbconvert_exporter": "python",
   "pygments_lexer": "ipython3",
   "version": "3.9.1"
  }
 },
 "nbformat": 4,
 "nbformat_minor": 5
}
