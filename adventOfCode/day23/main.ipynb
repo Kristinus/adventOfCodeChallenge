{
 "cells": [
  {
   "cell_type": "code",
   "execution_count": 2,
   "id": "dffe7414-2937-4978-ae6c-b237c5f8eb53",
   "metadata": {},
   "outputs": [],
   "source": [
    "import sys\n",
    "import numpy as np\n",
    "import math\n",
    "import operator\n",
    "import functools\n",
    "import json\n",
    "from pprint import pprint"
   ]
  },
  {
   "cell_type": "code",
   "execution_count": 143,
   "id": "1f65c463-7df1-4e90-a8f0-edca7b7d59fd",
   "metadata": {},
   "outputs": [],
   "source": [
    "from queue import PriorityQueue\n",
    "\n",
    "GOAL = np.array([\n",
    "    [i for i in '#############'],\n",
    "    [i for i in '#...........#'],\n",
    "    [i for i in '###A#B#C#D###'],\n",
    "    [i for i in '  #A#B#C#D#  '],\n",
    "    [i for i in '  #########  ']\n",
    "])\n",
    "\n",
    "def manhattan_dist(point1, point2):\n",
    "    return abs(sum(point1) - sum(point2))\n",
    "\n",
    "def get_min_dist(pair1, pair2):\n",
    "    return min(manhattan_dist(pair1[0], pair2[0]) + manhattan_dist(pair1[1], pair2[1]), \n",
    "               manhattan_dist(pair1[1], pair2[0]) + manhattan_dist(pair1[0], pair2[1])\n",
    "              )\n",
    "\n",
    "class State:\n",
    "    def __init__(self, value: Maze, parent=None, start = None, goal = None):\n",
    "        self.children = []\n",
    "        self.parent = parent\n",
    "        self.value = value\n",
    "        \n",
    "        if parent:\n",
    "            self.start = parent.start\n",
    "            self.goal = parent.goal\n",
    "            self.path = parent.path[:]\n",
    "            self.path.append(value)\n",
    "        else:\n",
    "            self.path = [value]\n",
    "            self.start = start if start else value\n",
    "            self.goal = goal\n",
    "        self.dist = self.getDistance()\n",
    "        \n",
    "        \n",
    "    def getDistance(self):\n",
    "        a = get_min_dist(self.value.A, self.goal.A)\n",
    "        b = get_min_dist(self.value.B, self.goal.B)\n",
    "        c = get_min_dist(self.value.C, self.goal.C)\n",
    "        d = get_min_dist(self.value.D, self.goal.D)\n",
    "        return a + b + c + d\n",
    "        \n",
    "    def createChildren(self):\n",
    "        if not self.children:\n",
    "            for i in range(\n",
    "\n",
    "class Maze:\n",
    "    def __init__(self, graph):\n",
    "        self.graph = graph\n",
    "        self.A = np.argwhere(self.graph == 'A').tolist()\n",
    "        self.B = np.argwhere(self.graph == 'B').tolist()\n",
    "        self.C = np.argwhere(self.graph == 'C').tolist()\n",
    "        self.D = np.argwhere(self.graph == 'D').tolist()\n",
    "        \n",
    "    def __repr__(self):\n",
    "        return f\"{self.graph}\"\n",
    "    \n",
    "class A_Star_Solver:\n",
    "    def __init__(self, start, goal):\n",
    "        self.path = []\n",
    "        self.visitedQueu = []\n",
    "        self.priorityQueue = PriorityQueue()\n",
    "        self.start = start\n",
    "        self.goal = goal\n",
    "        \n",
    "        def solve(self):\n",
    "            startState = State(self.start, None, self.start, self.goal)\n",
    "            count = 0\n",
    "            self.priorityQueue.put((0,count, startState))\n",
    "            \n",
    "            while not self.path and self.priorityQueue.qsize():\n",
    "                closestChild = self.priortyQueue.get()[2]\n",
    "                closestChild.createChildren()\n",
    "                self.visitedQueue.append(closestChild.value)\n",
    "                for child in closestChild.children:\n",
    "                    if child.value not in self.visitedQueue:\n",
    "                        count += 1\n",
    "                        if not child.dist:\n",
    "                            self.path = child.path\n",
    "                            break\n",
    "                        self.priortyQueue.put((child.dist, count, child))\n",
    "            if not self.path:\n",
    "                print(\"Goal is nto possible!\" + self.goal)\n",
    "            return self.path"
   ]
  },
  {
   "cell_type": "code",
   "execution_count": 144,
   "id": "d84bc203-0311-4bf4-a9c9-f27ab411c8c9",
   "metadata": {},
   "outputs": [],
   "source": [
    "def part1(arr):\n",
    "    graph = np.array([[x for x in i] for i in arr])\n",
    "    maze = Maze(graph)\n",
    "    goal = Maze(GOAL)\n",
    "    state = State(maze, goal=goal)\n",
    "    print(maze)\n",
    "    print(goal)\n",
    "    print(state.dist)\n",
    "    return"
   ]
  },
  {
   "cell_type": "code",
   "execution_count": 145,
   "id": "a4278153-58b0-4703-b310-25727a80bc10",
   "metadata": {},
   "outputs": [],
   "source": [
    "def part2(arr):\n",
    "    return"
   ]
  },
  {
   "cell_type": "code",
   "execution_count": 146,
   "id": "f193ee46-f43d-4c2a-a51e-afd5cde4a25a",
   "metadata": {},
   "outputs": [
    {
     "name": "stdout",
     "output_type": "stream",
     "text": [
      "[[3, 3], [3, 9]] [[2, 3], [3, 3]]\n",
      "7\n",
      "[['#' '#' '#' '#' '#' '#' '#' '#' '#' '#' '#' '#' '#']\n",
      " ['#' '.' '.' '.' '.' '.' '.' '.' '.' '.' '.' '.' '#']\n",
      " ['#' '#' '#' 'B' '#' 'C' '#' 'B' '#' 'D' '#' '#' '#']\n",
      " [' ' ' ' '#' 'A' '#' 'D' '#' 'C' '#' 'A' '#' ' ' ' ']\n",
      " [' ' ' ' '#' '#' '#' '#' '#' '#' '#' '#' '#' ' ' ' ']]\n",
      "[['#' '#' '#' '#' '#' '#' '#' '#' '#' '#' '#' '#' '#']\n",
      " ['#' '.' '.' '.' '.' '.' '.' '.' '.' '.' '.' '.' '#']\n",
      " ['#' '#' '#' 'A' '#' 'B' '#' 'C' '#' 'D' '#' '#' '#']\n",
      " [' ' ' ' '#' 'A' '#' 'B' '#' 'C' '#' 'D' '#' ' ' ' ']\n",
      " [' ' ' ' '#' '#' '#' '#' '#' '#' '#' '#' '#' ' ' ' ']]\n",
      "16\n",
      "None\n",
      "None\n"
     ]
    }
   ],
   "source": [
    "if __name__ == \"__main__\":\n",
    "    file = sys.argv[-1] if sys.argv[-1].endswith(\".txt\") else \"sample.txt\"\n",
    "    with open(file, \"r\") as f:\n",
    "        arr = f.read().splitlines()\n",
    "\n",
    "        print(part1(arr))\n",
    "        print(part2(arr))"
   ]
  },
  {
   "cell_type": "code",
   "execution_count": 31,
   "id": "f1811fbd-40c1-4ffe-9de6-f52cf50e30c6",
   "metadata": {},
   "outputs": [
    {
     "data": {
      "text/plain": [
       "4"
      ]
     },
     "execution_count": 31,
     "metadata": {},
     "output_type": "execute_result"
    }
   ],
   "source": [
    "#############\n",
    "#...........#\n",
    "###A#D#A#B###\n",
    "  #C#C#D#B#\n",
    "  #########\n",
    "\n",
    "#############\n",
    "#...A.......#\n",
    "###.#D#A#B###\n",
    "  #C#C#D#B#\n",
    "  #########\n",
    "\n",
    "#############\n",
    "#.C.A.......#\n",
    "###.#D#A#B###\n",
    "  #.#C#D#B#\n",
    "  #########\n",
    "\n",
    "#############\n",
    "#.C.........#\n",
    "###.#D#A#B###\n",
    "  #A#C#D#B#\n",
    "  #########\n",
    "\n",
    "#############\n",
    "#.C.........#\n",
    "###A#D#.#B###\n",
    "  #A#C#D#B#\n",
    "  #########\n",
    "\n",
    "#############\n",
    "#...........#\n",
    "###A#B#C#D###\n",
    "  #A#B#C#D#  \n",
    "  #########  \n"
   ]
  },
  {
   "cell_type": "code",
   "execution_count": 32,
   "id": "dfda6262-c260-4091-9994-8ec283815438",
   "metadata": {},
   "outputs": [
    {
     "data": {
      "text/plain": [
       "-4"
      ]
     },
     "execution_count": 32,
     "metadata": {},
     "output_type": "execute_result"
    }
   ],
   "source": [
    "3-5+5-7"
   ]
  },
  {
   "cell_type": "code",
   "execution_count": 33,
   "id": "74f938a5-acd5-46f1-ab82-f8a7cbd4b1c0",
   "metadata": {},
   "outputs": [
    {
     "data": {
      "text/plain": [
       "4"
      ]
     },
     "execution_count": 33,
     "metadata": {},
     "output_type": "execute_result"
    }
   ],
   "source": [
    "5+7-3-5"
   ]
  },
  {
   "cell_type": "code",
   "execution_count": 34,
   "id": "805aff6b-8da4-4bf9-9d4f-006b09e8bc8b",
   "metadata": {},
   "outputs": [
    {
     "data": {
      "text/plain": [
       "-4"
      ]
     },
     "execution_count": 34,
     "metadata": {},
     "output_type": "execute_result"
    }
   ],
   "source": [
    "3+5-5-7"
   ]
  },
  {
   "cell_type": "code",
   "execution_count": null,
   "id": "27e0eeba-b940-4244-a5f1-d0919d803e57",
   "metadata": {},
   "outputs": [],
   "source": []
  }
 ],
 "metadata": {
  "kernelspec": {
   "display_name": "Python 3 (ipykernel)",
   "language": "python",
   "name": "python3"
  },
  "language_info": {
   "codemirror_mode": {
    "name": "ipython",
    "version": 3
   },
   "file_extension": ".py",
   "mimetype": "text/x-python",
   "name": "python",
   "nbconvert_exporter": "python",
   "pygments_lexer": "ipython3",
   "version": "3.9.1"
  }
 },
 "nbformat": 4,
 "nbformat_minor": 5
}
