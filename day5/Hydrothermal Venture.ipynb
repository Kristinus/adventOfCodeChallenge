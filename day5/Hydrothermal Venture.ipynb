{
 "cells": [
  {
   "cell_type": "code",
   "execution_count": 1,
   "id": "475e9462-cdd1-4593-8fbc-fb46c270e8b5",
   "metadata": {},
   "outputs": [],
   "source": [
    "import sys\n",
    "import numpy as np"
   ]
  },
  {
   "cell_type": "code",
   "execution_count": 130,
   "id": "60a16836-6bb4-4489-a81f-f82034a12686",
   "metadata": {},
   "outputs": [],
   "source": [
    "def part1(arr):\n",
    "    lines = np.array([[int(y) for x in line_str.split(\" -> \") for y in x.split(\",\")] for line_str in arr])\n",
    "    m = np.max(lines)+1\n",
    "    board = np.zeros((m,m))\n",
    "    \n",
    "    for [x1, y1, x2, y2] in lines:\n",
    "        if x1 == x2 or y1 == y2:\n",
    "            x1, x2 = (x1,x2) if x1 < x2 else (x2,x1)\n",
    "            y1, y2 = (y1,y2) if y1 < y2 else (y2,y1)\n",
    "            board[x1:x2+1,y1:y2+1] += 1\n",
    "    return len(np.where(board > 1)[0])"
   ]
  },
  {
   "cell_type": "code",
   "execution_count": 180,
   "id": "d432d6e2-f131-42e9-9c54-2d4cdea47722",
   "metadata": {},
   "outputs": [],
   "source": [
    "def part2(arr):\n",
    "    lines = np.array([[int(y) for x in line_str.split(\" -> \") for y in x.split(\",\")] for line_str in arr])\n",
    "    m = np.max(lines)+1\n",
    "    board = np.zeros((m,m))\n",
    "    \n",
    "    for [y1, x1, y2, x2] in lines:\n",
    "        if x1 == x2 or y1 == y2:\n",
    "            x1, x2 = (x1,x2) if x1 < x2 else (x2,x1)\n",
    "            y1, y2 = (y1,y2) if y1 < y2 else (y2,y1)\n",
    "            board[x1:x2+1,y1:y2+1] += 1\n",
    "        else:\n",
    "            flip = not((x1 < x2 and y1 < y2) or (x2 < x1 and y2 < y1))\n",
    "            x1, x2 = (x1,x2) if x1 < x2 else (x2,x1)\n",
    "            y1, y2 = (y1,y2) if y1 < y2 else (y2,y1)\n",
    "            add = np.eye(x2-x1+1)\n",
    "            if flip:\n",
    "                add = np.fliplr(add)\n",
    "            board[x1:x2+1,y1:y2+1] += add\n",
    "    return len(np.where(board > 1)[0])"
   ]
  },
  {
   "cell_type": "code",
   "execution_count": 181,
   "id": "a6ba311f-6041-44bb-9850-ee395c1e1a33",
   "metadata": {},
   "outputs": [
    {
     "name": "stdout",
     "output_type": "stream",
     "text": [
      "5280\n",
      "16716\n"
     ]
    }
   ],
   "source": [
    "if __name__ == \"__main__\":\n",
    "    with open(\"input.txt\", \"r\") as f:\n",
    "        arr = f.read().splitlines()\n",
    "    \n",
    "        print(part1(arr))\n",
    "        print(part2(arr))"
   ]
  },
  {
   "cell_type": "code",
   "execution_count": 139,
   "id": "4a83458d-641f-4528-8c71-30eb8af24c3a",
   "metadata": {},
   "outputs": [
    {
     "data": {
      "text/plain": [
       "array([[ 0,  1,  2],\n",
       "       [ 3,  5,  5],\n",
       "       [ 6,  7,  9],\n",
       "       [ 9, 10, 11]])"
      ]
     },
     "execution_count": 139,
     "metadata": {},
     "output_type": "execute_result"
    }
   ],
   "source": [
    "x = np.array([[ 0,  1,  2],\n",
    "              [ 3,  4,  5],\n",
    "              [ 6,  7,  8],\n",
    "              [ 9, 10, 11]])\n",
    "a = np.einsum('ii->i', x[1:3, 1:3])\n",
    "a += 1\n",
    "x\n"
   ]
  },
  {
   "cell_type": "code",
   "execution_count": null,
   "id": "59934995-6705-4ece-97bd-00323c2e2b72",
   "metadata": {},
   "outputs": [],
   "source": []
  }
 ],
 "metadata": {
  "kernelspec": {
   "display_name": "Python 3",
   "language": "python",
   "name": "python3"
  },
  "language_info": {
   "codemirror_mode": {
    "name": "ipython",
    "version": 3
   },
   "file_extension": ".py",
   "mimetype": "text/x-python",
   "name": "python",
   "nbconvert_exporter": "python",
   "pygments_lexer": "ipython3",
   "version": "3.9.1"
  }
 },
 "nbformat": 4,
 "nbformat_minor": 5
}
